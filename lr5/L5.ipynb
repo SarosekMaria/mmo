{
 "cells": [
  {
   "cell_type": "markdown",
   "metadata": {},
   "source": [
    "# Предобработка текста"
   ]
  },
  {
   "cell_type": "code",
   "execution_count": 1,
   "metadata": {},
   "outputs": [],
   "source": [
    "text1 = 'Звездные войны - медиафраншиза в жанре космическая опера, включающая в себя одиннадцать художественных фильмов (9 эпизодов основной саги, также известна как «Сага Скайуокеров» и 2 фильма историй), а также анимационные сериалы, мультфильмы, телефильмы, книги, комиксы, видеоигры, игрушки и прочие произведения, созданные в рамках единой фантастической вселенной «Звёздных войн», задуманной и реализованной американским режиссёром Джорджем Лукасом в конце 1970-х годов и позднее расширенной.'\n",
    "text2 = 'Нельзя остановить перемены, как нельзя остановить восход солнца.'\n",
    "text3 = 'Теперь будь храбр и не оглядывайся назад. Не оглядывайся.'"
   ]
  },
  {
   "cell_type": "markdown",
   "metadata": {},
   "source": [
    "## Задача токенизации"
   ]
  },
  {
   "cell_type": "markdown",
   "metadata": {},
   "source": [
    "### NLTK"
   ]
  },
  {
   "cell_type": "code",
   "execution_count": 2,
   "metadata": {},
   "outputs": [
    {
     "name": "stderr",
     "output_type": "stream",
     "text": [
      "[nltk_data] Downloading package punkt to\n",
      "[nltk_data]     C:\\Users\\masha\\AppData\\Roaming\\nltk_data...\n",
      "[nltk_data]   Unzipping tokenizers\\punkt.zip.\n"
     ]
    },
    {
     "data": {
      "text/plain": [
       "True"
      ]
     },
     "execution_count": 2,
     "metadata": {},
     "output_type": "execute_result"
    }
   ],
   "source": [
    "import nltk\n",
    "nltk.download('punkt')"
   ]
  },
  {
   "cell_type": "code",
   "execution_count": 3,
   "metadata": {},
   "outputs": [
    {
     "data": {
      "text/plain": [
       "['BlanklineTokenizer',\n",
       " 'LineTokenizer',\n",
       " 'MWETokenizer',\n",
       " 'NLTKWordTokenizer',\n",
       " 'PunktSentenceTokenizer',\n",
       " 'RegexpTokenizer',\n",
       " 'ReppTokenizer',\n",
       " 'SExprTokenizer',\n",
       " 'SpaceTokenizer',\n",
       " 'StanfordSegmenter',\n",
       " 'SyllableTokenizer',\n",
       " 'TabTokenizer',\n",
       " 'TextTilingTokenizer',\n",
       " 'ToktokTokenizer',\n",
       " 'TreebankWordTokenizer',\n",
       " 'TweetTokenizer',\n",
       " 'WhitespaceTokenizer',\n",
       " 'WordPunctTokenizer']"
      ]
     },
     "execution_count": 3,
     "metadata": {},
     "output_type": "execute_result"
    }
   ],
   "source": [
    "from nltk import tokenize\n",
    "dir(tokenize)[:18]"
   ]
  },
  {
   "cell_type": "code",
   "execution_count": 4,
   "metadata": {},
   "outputs": [
    {
     "data": {
      "text/plain": [
       "['Звездные',\n",
       " 'войны',\n",
       " '-',\n",
       " 'медиафраншиза',\n",
       " 'в',\n",
       " 'жанре',\n",
       " 'космическая',\n",
       " 'опера',\n",
       " ',',\n",
       " 'включающая',\n",
       " 'в',\n",
       " 'себя',\n",
       " 'одиннадцать',\n",
       " 'художественных',\n",
       " 'фильмов',\n",
       " '(',\n",
       " '9',\n",
       " 'эпизодов',\n",
       " 'основной',\n",
       " 'саги',\n",
       " ',',\n",
       " 'также',\n",
       " 'известна',\n",
       " 'как',\n",
       " '«',\n",
       " 'Сага',\n",
       " 'Скайуокеров',\n",
       " '»',\n",
       " 'и',\n",
       " '2',\n",
       " 'фильма',\n",
       " 'историй',\n",
       " '),',\n",
       " 'а',\n",
       " 'также',\n",
       " 'анимационные',\n",
       " 'сериалы',\n",
       " ',',\n",
       " 'мультфильмы',\n",
       " ',',\n",
       " 'телефильмы',\n",
       " ',',\n",
       " 'книги',\n",
       " ',',\n",
       " 'комиксы',\n",
       " ',',\n",
       " 'видеоигры',\n",
       " ',',\n",
       " 'игрушки',\n",
       " 'и',\n",
       " 'прочие',\n",
       " 'произведения',\n",
       " ',',\n",
       " 'созданные',\n",
       " 'в',\n",
       " 'рамках',\n",
       " 'единой',\n",
       " 'фантастической',\n",
       " 'вселенной',\n",
       " '«',\n",
       " 'Звёздных',\n",
       " 'войн',\n",
       " '»,',\n",
       " 'задуманной',\n",
       " 'и',\n",
       " 'реализованной',\n",
       " 'американским',\n",
       " 'режиссёром',\n",
       " 'Джорджем',\n",
       " 'Лукасом',\n",
       " 'в',\n",
       " 'конце',\n",
       " '1970',\n",
       " '-',\n",
       " 'х',\n",
       " 'годов',\n",
       " 'и',\n",
       " 'позднее',\n",
       " 'расширенной',\n",
       " '.']"
      ]
     },
     "execution_count": 4,
     "metadata": {},
     "output_type": "execute_result"
    }
   ],
   "source": [
    "nltk_tk_1 = nltk.WordPunctTokenizer()\n",
    "nltk_tk_1.tokenize(text1)"
   ]
  },
  {
   "cell_type": "code",
   "execution_count": 5,
   "metadata": {},
   "outputs": [
    {
     "name": "stdout",
     "output_type": "stream",
     "text": [
      "1\n"
     ]
    },
    {
     "data": {
      "text/plain": [
       "['Звездные войны - медиафраншиза в жанре космическая опера, включающая в себя одиннадцать художественных фильмов (9 эпизодов основной саги, также известна как «Сага Скайуокеров» и 2 фильма историй), а также анимационные сериалы, мультфильмы, телефильмы, книги, комиксы, видеоигры, игрушки и прочие произведения, созданные в рамках единой фантастической вселенной «Звёздных войн», задуманной и реализованной американским режиссёром Джорджем Лукасом в конце 1970-х годов и позднее расширенной.']"
      ]
     },
     "execution_count": 5,
     "metadata": {},
     "output_type": "execute_result"
    }
   ],
   "source": [
    "# Токенизация по предложениям\n",
    "nltk_tk_sents = nltk.tokenize.sent_tokenize(text1)\n",
    "print(len(nltk_tk_sents))\n",
    "nltk_tk_sents"
   ]
  },
  {
   "cell_type": "markdown",
   "metadata": {},
   "source": [
    "### Spacy"
   ]
  },
  {
   "cell_type": "code",
   "execution_count": 12,
   "metadata": {},
   "outputs": [
    {
     "name": "stdout",
     "output_type": "stream",
     "text": [
      "Requirement already satisfied: spacy in c:\\users\\masha\\anaconda3\\lib\\site-packages (3.0.6)\n",
      "Requirement already satisfied: murmurhash<1.1.0,>=0.28.0 in c:\\users\\masha\\anaconda3\\lib\\site-packages (from spacy) (1.0.5)\n",
      "Requirement already satisfied: wasabi<1.1.0,>=0.8.1 in c:\\users\\masha\\anaconda3\\lib\\site-packages (from spacy) (0.8.2)\n",
      "Requirement already satisfied: thinc<8.1.0,>=8.0.3 in c:\\users\\masha\\anaconda3\\lib\\site-packages (from spacy) (8.0.3)\n",
      "Requirement already satisfied: blis<0.8.0,>=0.4.0 in c:\\users\\masha\\anaconda3\\lib\\site-packages (from spacy) (0.7.4)\n",
      "Requirement already satisfied: packaging>=20.0 in c:\\users\\masha\\anaconda3\\lib\\site-packages (from spacy) (20.4)\n",
      "Requirement already satisfied: catalogue<2.1.0,>=2.0.3 in c:\\users\\masha\\anaconda3\\lib\\site-packages (from spacy) (2.0.4)\n",
      "Requirement already satisfied: typer<0.4.0,>=0.3.0 in c:\\users\\masha\\anaconda3\\lib\\site-packages (from spacy) (0.3.2)\n",
      "Requirement already satisfied: pathy>=0.3.5 in c:\\users\\masha\\anaconda3\\lib\\site-packages (from spacy) (0.5.2)\n",
      "Requirement already satisfied: spacy-legacy<3.1.0,>=3.0.4 in c:\\users\\masha\\anaconda3\\lib\\site-packages (from spacy) (3.0.5)\n",
      "Requirement already satisfied: requests<3.0.0,>=2.13.0 in c:\\users\\masha\\anaconda3\\lib\\site-packages (from spacy) (2.24.0)\n",
      "Requirement already satisfied: setuptools in c:\\users\\masha\\anaconda3\\lib\\site-packages (from spacy) (50.3.1.post20201107)\n",
      "Requirement already satisfied: preshed<3.1.0,>=3.0.2 in c:\\users\\masha\\anaconda3\\lib\\site-packages (from spacy) (3.0.5)\n",
      "Requirement already satisfied: pydantic<1.8.0,>=1.7.1 in c:\\users\\masha\\anaconda3\\lib\\site-packages (from spacy) (1.7.4)\n",
      "Requirement already satisfied: tqdm<5.0.0,>=4.38.0 in c:\\users\\masha\\anaconda3\\lib\\site-packages (from spacy) (4.50.2)\n",
      "Requirement already satisfied: jinja2 in c:\\users\\masha\\anaconda3\\lib\\site-packages (from spacy) (2.11.2)\n",
      "Requirement already satisfied: cymem<2.1.0,>=2.0.2 in c:\\users\\masha\\anaconda3\\lib\\site-packages (from spacy) (2.0.5)\n",
      "Requirement already satisfied: srsly<3.0.0,>=2.4.1 in c:\\users\\masha\\anaconda3\\lib\\site-packages (from spacy) (2.4.1)\n",
      "Requirement already satisfied: numpy>=1.15.0 in c:\\users\\masha\\anaconda3\\lib\\site-packages (from spacy) (1.20.3)\n",
      "Requirement already satisfied: pyparsing>=2.0.2 in c:\\users\\masha\\anaconda3\\lib\\site-packages (from packaging>=20.0->spacy) (2.4.7)\n",
      "Requirement already satisfied: six in c:\\users\\masha\\anaconda3\\lib\\site-packages (from packaging>=20.0->spacy) (1.15.0)\n",
      "Requirement already satisfied: smart-open<4.0.0,>=2.2.0 in c:\\users\\masha\\anaconda3\\lib\\site-packages (from pathy>=0.3.5->spacy) (3.0.0)\n",
      "Requirement already satisfied: certifi>=2017.4.17 in c:\\users\\masha\\anaconda3\\lib\\site-packages (from requests<3.0.0,>=2.13.0->spacy) (2020.6.20)\n",
      "Requirement already satisfied: idna<3,>=2.5 in c:\\users\\masha\\anaconda3\\lib\\site-packages (from requests<3.0.0,>=2.13.0->spacy) (2.10)\n",
      "Requirement already satisfied: urllib3!=1.25.0,!=1.25.1,<1.26,>=1.21.1 in c:\\users\\masha\\anaconda3\\lib\\site-packages (from requests<3.0.0,>=2.13.0->spacy) (1.25.11)\n",
      "Requirement already satisfied: chardet<4,>=3.0.2 in c:\\users\\masha\\anaconda3\\lib\\site-packages (from requests<3.0.0,>=2.13.0->spacy) (3.0.4)\n",
      "Requirement already satisfied: click<7.2.0,>=7.1.1 in c:\\users\\masha\\anaconda3\\lib\\site-packages (from typer<0.4.0,>=0.3.0->spacy) (7.1.2)\n",
      "Requirement already satisfied: MarkupSafe>=0.23 in c:\\users\\masha\\anaconda3\\lib\\site-packages (from jinja2->spacy) (1.1.1)\n",
      "Requirement already satisfied: pip in c:\\users\\masha\\anaconda3\\lib\\site-packages (21.1.2)\n",
      "Requirement already satisfied: setuptools in c:\\users\\masha\\anaconda3\\lib\\site-packages (50.3.1.post20201107)\n",
      "Collecting setuptools\n",
      "  Using cached setuptools-57.0.0-py3-none-any.whl (821 kB)\n",
      "Requirement already satisfied: wheel in c:\\users\\masha\\anaconda3\\lib\\site-packages (0.35.1)\n",
      "Collecting wheel\n",
      "  Using cached wheel-0.36.2-py2.py3-none-any.whl (35 kB)\n",
      "Installing collected packages: wheel, setuptools\n",
      "  Attempting uninstall: wheel\n",
      "    Found existing installation: wheel 0.35.1\n",
      "    Uninstalling wheel-0.35.1:\n",
      "      Successfully uninstalled wheel-0.35.1\n",
      "  Attempting uninstall: setuptools\n",
      "    Found existing installation: setuptools 50.3.1.post20201107\n",
      "    Uninstalling setuptools-50.3.1.post20201107:\n",
      "      Successfully uninstalled setuptools-50.3.1.post20201107\n",
      "Successfully installed setuptools-57.0.0 wheel-0.36.2\n"
     ]
    },
    {
     "name": "stderr",
     "output_type": "stream",
     "text": [
      "ERROR: pip's dependency resolver does not currently take into account all the packages that are installed. This behaviour is the source of the following dependency conflicts.\n",
      "distributed 2.30.1 requires cloudpickle>=1.5.0, but you have cloudpickle 1.3.0 which is incompatible.\n"
     ]
    },
    {
     "name": "stdout",
     "output_type": "stream",
     "text": [
      "Requirement already satisfied: spacy in c:\\users\\masha\\anaconda3\\lib\\site-packages (3.0.6)\n",
      "Requirement already satisfied: numpy>=1.15.0 in c:\\users\\masha\\anaconda3\\lib\\site-packages (from spacy) (1.20.3)\n",
      "Requirement already satisfied: packaging>=20.0 in c:\\users\\masha\\anaconda3\\lib\\site-packages (from spacy) (20.4)\n",
      "Requirement already satisfied: catalogue<2.1.0,>=2.0.3 in c:\\users\\masha\\anaconda3\\lib\\site-packages (from spacy) (2.0.4)\n",
      "Requirement already satisfied: preshed<3.1.0,>=3.0.2 in c:\\users\\masha\\anaconda3\\lib\\site-packages (from spacy) (3.0.5)\n",
      "Requirement already satisfied: thinc<8.1.0,>=8.0.3 in c:\\users\\masha\\anaconda3\\lib\\site-packages (from spacy) (8.0.3)\n",
      "Requirement already satisfied: typer<0.4.0,>=0.3.0 in c:\\users\\masha\\anaconda3\\lib\\site-packages (from spacy) (0.3.2)\n",
      "Requirement already satisfied: requests<3.0.0,>=2.13.0 in c:\\users\\masha\\anaconda3\\lib\\site-packages (from spacy) (2.24.0)\n",
      "Requirement already satisfied: pydantic<1.8.0,>=1.7.1 in c:\\users\\masha\\anaconda3\\lib\\site-packages (from spacy) (1.7.4)\n",
      "Requirement already satisfied: jinja2 in c:\\users\\masha\\anaconda3\\lib\\site-packages (from spacy) (2.11.2)\n",
      "Requirement already satisfied: wasabi<1.1.0,>=0.8.1 in c:\\users\\masha\\anaconda3\\lib\\site-packages (from spacy) (0.8.2)\n",
      "Requirement already satisfied: murmurhash<1.1.0,>=0.28.0 in c:\\users\\masha\\anaconda3\\lib\\site-packages (from spacy) (1.0.5)\n",
      "Requirement already satisfied: srsly<3.0.0,>=2.4.1 in c:\\users\\masha\\anaconda3\\lib\\site-packages (from spacy) (2.4.1)\n",
      "Requirement already satisfied: pathy>=0.3.5 in c:\\users\\masha\\anaconda3\\lib\\site-packages (from spacy) (0.5.2)\n",
      "Requirement already satisfied: tqdm<5.0.0,>=4.38.0 in c:\\users\\masha\\anaconda3\\lib\\site-packages (from spacy) (4.50.2)\n",
      "Requirement already satisfied: cymem<2.1.0,>=2.0.2 in c:\\users\\masha\\anaconda3\\lib\\site-packages (from spacy) (2.0.5)\n",
      "Requirement already satisfied: setuptools in c:\\users\\masha\\anaconda3\\lib\\site-packages (from spacy) (57.0.0)\n",
      "Requirement already satisfied: blis<0.8.0,>=0.4.0 in c:\\users\\masha\\anaconda3\\lib\\site-packages (from spacy) (0.7.4)\n",
      "Requirement already satisfied: spacy-legacy<3.1.0,>=3.0.4 in c:\\users\\masha\\anaconda3\\lib\\site-packages (from spacy) (3.0.5)\n",
      "Requirement already satisfied: six in c:\\users\\masha\\anaconda3\\lib\\site-packages (from packaging>=20.0->spacy) (1.15.0)\n",
      "Requirement already satisfied: pyparsing>=2.0.2 in c:\\users\\masha\\anaconda3\\lib\\site-packages (from packaging>=20.0->spacy) (2.4.7)\n",
      "Requirement already satisfied: smart-open<4.0.0,>=2.2.0 in c:\\users\\masha\\anaconda3\\lib\\site-packages (from pathy>=0.3.5->spacy) (3.0.0)\n",
      "Requirement already satisfied: idna<3,>=2.5 in c:\\users\\masha\\anaconda3\\lib\\site-packages (from requests<3.0.0,>=2.13.0->spacy) (2.10)\n",
      "Requirement already satisfied: chardet<4,>=3.0.2 in c:\\users\\masha\\anaconda3\\lib\\site-packages (from requests<3.0.0,>=2.13.0->spacy) (3.0.4)\n",
      "Requirement already satisfied: urllib3!=1.25.0,!=1.25.1,<1.26,>=1.21.1 in c:\\users\\masha\\anaconda3\\lib\\site-packages (from requests<3.0.0,>=2.13.0->spacy) (1.25.11)\n",
      "Requirement already satisfied: certifi>=2017.4.17 in c:\\users\\masha\\anaconda3\\lib\\site-packages (from requests<3.0.0,>=2.13.0->spacy) (2020.6.20)\n",
      "Requirement already satisfied: click<7.2.0,>=7.1.1 in c:\\users\\masha\\anaconda3\\lib\\site-packages (from typer<0.4.0,>=0.3.0->spacy) (7.1.2)\n",
      "Requirement already satisfied: MarkupSafe>=0.23 in c:\\users\\masha\\anaconda3\\lib\\site-packages (from jinja2->spacy) (1.1.1)\n"
     ]
    },
    {
     "name": "stderr",
     "output_type": "stream",
     "text": [
      "Usage: python -m spacy [OPTIONS] COMMAND [ARGS]...\n",
      "Try 'python -m spacy --help' for help.\n",
      "\n",
      "Error: no such option: --user\n",
      "Usage: python -m spacy [OPTIONS] COMMAND [ARGS]...\n",
      "Try 'python -m spacy --help' for help.\n",
      "\n",
      "Error: no such option: --user\n"
     ]
    }
   ],
   "source": [
    "!pip install spacy\n",
    "!pip install -U pip setuptools wheel\n",
    "!pip install -U spacy\n",
    "!python -m spacy --user download en_core_web_sm\n",
    "!python -m spacy --user download ru_core_news_sm"
   ]
  },
  {
   "cell_type": "code",
   "execution_count": 13,
   "metadata": {},
   "outputs": [
    {
     "data": {
      "text/plain": [
       "Звездные войны - медиафраншиза в жанре космическая опера, включающая в себя одиннадцать художественных фильмов (9 эпизодов основной саги, также известна как «Сага Скайуокеров» и 2 фильма историй), а также анимационные сериалы, мультфильмы, телефильмы, книги, комиксы, видеоигры, игрушки и прочие произведения, созданные в рамках единой фантастической вселенной «Звёздных войн», задуманной и реализованной американским режиссёром Джорджем Лукасом в конце 1970-х годов и позднее расширенной."
      ]
     },
     "execution_count": 13,
     "metadata": {},
     "output_type": "execute_result"
    }
   ],
   "source": [
    "import spacy\n",
    "from spacy.lang.ru import Russian\n",
    "nlp = spacy.load('ru_core_news_sm')\n",
    "spacy_text1 = nlp(text1)\n",
    "spacy_text1"
   ]
  },
  {
   "cell_type": "code",
   "execution_count": 14,
   "metadata": {},
   "outputs": [
    {
     "name": "stdout",
     "output_type": "stream",
     "text": [
      "Звездные\n",
      "войны\n",
      "-\n",
      "медиафраншиза\n",
      "в\n",
      "жанре\n",
      "космическая\n",
      "опера\n",
      ",\n",
      "включающая\n",
      "в\n",
      "себя\n",
      "одиннадцать\n",
      "художественных\n",
      "фильмов\n",
      "(\n",
      "9\n",
      "эпизодов\n",
      "основной\n",
      "саги\n",
      ",\n",
      "также\n",
      "известна\n",
      "как\n",
      "«\n",
      "Сага\n",
      "Скайуокеров\n",
      "»\n",
      "и\n",
      "2\n",
      "фильма\n",
      "историй\n",
      ")\n",
      ",\n",
      "а\n",
      "также\n",
      "анимационные\n",
      "сериалы\n",
      ",\n",
      "мультфильмы\n",
      ",\n",
      "телефильмы\n",
      ",\n",
      "книги\n",
      ",\n",
      "комиксы\n",
      ",\n",
      "видеоигры\n",
      ",\n",
      "игрушки\n",
      "и\n",
      "прочие\n",
      "произведения\n",
      ",\n",
      "созданные\n",
      "в\n",
      "рамках\n",
      "единой\n",
      "фантастической\n",
      "вселенной\n",
      "«\n",
      "Звёздных\n",
      "войн\n",
      "»\n",
      ",\n",
      "задуманной\n",
      "и\n",
      "реализованной\n",
      "американским\n",
      "режиссёром\n",
      "Джорджем\n",
      "Лукасом\n",
      "в\n",
      "конце\n",
      "1970-х\n",
      "годов\n",
      "и\n",
      "позднее\n",
      "расширенной\n",
      ".\n"
     ]
    }
   ],
   "source": [
    "for t in spacy_text1:\n",
    "    print(t)"
   ]
  },
  {
   "cell_type": "code",
   "execution_count": 15,
   "metadata": {},
   "outputs": [
    {
     "data": {
      "text/plain": [
       "Нельзя остановить перемены, как нельзя остановить восход солнца."
      ]
     },
     "execution_count": 15,
     "metadata": {},
     "output_type": "execute_result"
    }
   ],
   "source": [
    "spacy_text2 = nlp(text2)\n",
    "spacy_text2"
   ]
  },
  {
   "cell_type": "code",
   "execution_count": 16,
   "metadata": {},
   "outputs": [
    {
     "data": {
      "text/plain": [
       "Теперь будь храбр и не оглядывайся назад. Не оглядывайся."
      ]
     },
     "execution_count": 16,
     "metadata": {},
     "output_type": "execute_result"
    }
   ],
   "source": [
    "spacy_text3 = nlp(text3)\n",
    "spacy_text3"
   ]
  },
  {
   "cell_type": "markdown",
   "metadata": {},
   "source": [
    "## Natasha"
   ]
  },
  {
   "cell_type": "code",
   "execution_count": 18,
   "metadata": {},
   "outputs": [
    {
     "name": "stdout",
     "output_type": "stream",
     "text": [
      "Collecting razdel\n",
      "  Downloading razdel-0.5.0-py3-none-any.whl (21 kB)\n",
      "Installing collected packages: razdel\n",
      "Successfully installed razdel-0.5.0\n"
     ]
    }
   ],
   "source": [
    "!pip install razdel"
   ]
  },
  {
   "cell_type": "code",
   "execution_count": 19,
   "metadata": {},
   "outputs": [],
   "source": [
    "from razdel import tokenize, sentenize"
   ]
  },
  {
   "cell_type": "code",
   "execution_count": 20,
   "metadata": {},
   "outputs": [
    {
     "data": {
      "text/plain": [
       "[Substring(0, 8, 'Звездные'),\n",
       " Substring(9, 14, 'войны'),\n",
       " Substring(15, 16, '-'),\n",
       " Substring(17, 30, 'медиафраншиза'),\n",
       " Substring(31, 32, 'в'),\n",
       " Substring(33, 38, 'жанре'),\n",
       " Substring(39, 50, 'космическая'),\n",
       " Substring(51, 56, 'опера'),\n",
       " Substring(56, 57, ','),\n",
       " Substring(58, 68, 'включающая'),\n",
       " Substring(69, 70, 'в'),\n",
       " Substring(71, 75, 'себя'),\n",
       " Substring(76, 87, 'одиннадцать'),\n",
       " Substring(88, 102, 'художественных'),\n",
       " Substring(103, 110, 'фильмов'),\n",
       " Substring(111, 112, '('),\n",
       " Substring(112, 113, '9'),\n",
       " Substring(114, 122, 'эпизодов'),\n",
       " Substring(123, 131, 'основной'),\n",
       " Substring(132, 136, 'саги'),\n",
       " Substring(136, 137, ','),\n",
       " Substring(138, 143, 'также'),\n",
       " Substring(144, 152, 'известна'),\n",
       " Substring(153, 156, 'как'),\n",
       " Substring(157, 158, '«'),\n",
       " Substring(158, 162, 'Сага'),\n",
       " Substring(163, 174, 'Скайуокеров'),\n",
       " Substring(174, 175, '»'),\n",
       " Substring(176, 177, 'и'),\n",
       " Substring(178, 179, '2'),\n",
       " Substring(180, 186, 'фильма'),\n",
       " Substring(187, 194, 'историй'),\n",
       " Substring(194, 195, ')'),\n",
       " Substring(195, 196, ','),\n",
       " Substring(197, 198, 'а'),\n",
       " Substring(199, 204, 'также'),\n",
       " Substring(205, 217, 'анимационные'),\n",
       " Substring(218, 225, 'сериалы'),\n",
       " Substring(225, 226, ','),\n",
       " Substring(227, 238, 'мультфильмы'),\n",
       " Substring(238, 239, ','),\n",
       " Substring(240, 250, 'телефильмы'),\n",
       " Substring(250, 251, ','),\n",
       " Substring(252, 257, 'книги'),\n",
       " Substring(257, 258, ','),\n",
       " Substring(259, 266, 'комиксы'),\n",
       " Substring(266, 267, ','),\n",
       " Substring(268, 277, 'видеоигры'),\n",
       " Substring(277, 278, ','),\n",
       " Substring(279, 286, 'игрушки'),\n",
       " Substring(287, 288, 'и'),\n",
       " Substring(289, 295, 'прочие'),\n",
       " Substring(296, 308, 'произведения'),\n",
       " Substring(308, 309, ','),\n",
       " Substring(310, 319, 'созданные'),\n",
       " Substring(320, 321, 'в'),\n",
       " Substring(322, 328, 'рамках'),\n",
       " Substring(329, 335, 'единой'),\n",
       " Substring(336, 350, 'фантастической'),\n",
       " Substring(351, 360, 'вселенной'),\n",
       " Substring(361, 362, '«'),\n",
       " Substring(362, 370, 'Звёздных'),\n",
       " Substring(371, 375, 'войн'),\n",
       " Substring(375, 376, '»'),\n",
       " Substring(376, 377, ','),\n",
       " Substring(378, 388, 'задуманной'),\n",
       " Substring(389, 390, 'и'),\n",
       " Substring(391, 404, 'реализованной'),\n",
       " Substring(405, 417, 'американским'),\n",
       " Substring(418, 428, 'режиссёром'),\n",
       " Substring(429, 437, 'Джорджем'),\n",
       " Substring(438, 445, 'Лукасом'),\n",
       " Substring(446, 447, 'в'),\n",
       " Substring(448, 453, 'конце'),\n",
       " Substring(454, 460, '1970-х'),\n",
       " Substring(461, 466, 'годов'),\n",
       " Substring(467, 468, 'и'),\n",
       " Substring(469, 476, 'позднее'),\n",
       " Substring(477, 488, 'расширенной'),\n",
       " Substring(488, 489, '.')]"
      ]
     },
     "execution_count": 20,
     "metadata": {},
     "output_type": "execute_result"
    }
   ],
   "source": [
    "n_tok_text1 = list(tokenize(text1))\n",
    "n_tok_text1"
   ]
  },
  {
   "cell_type": "code",
   "execution_count": 21,
   "metadata": {},
   "outputs": [
    {
     "data": {
      "text/plain": [
       "['Звездные',\n",
       " 'войны',\n",
       " '-',\n",
       " 'медиафраншиза',\n",
       " 'в',\n",
       " 'жанре',\n",
       " 'космическая',\n",
       " 'опера',\n",
       " ',',\n",
       " 'включающая',\n",
       " 'в',\n",
       " 'себя',\n",
       " 'одиннадцать',\n",
       " 'художественных',\n",
       " 'фильмов',\n",
       " '(',\n",
       " '9',\n",
       " 'эпизодов',\n",
       " 'основной',\n",
       " 'саги',\n",
       " ',',\n",
       " 'также',\n",
       " 'известна',\n",
       " 'как',\n",
       " '«',\n",
       " 'Сага',\n",
       " 'Скайуокеров',\n",
       " '»',\n",
       " 'и',\n",
       " '2',\n",
       " 'фильма',\n",
       " 'историй',\n",
       " ')',\n",
       " ',',\n",
       " 'а',\n",
       " 'также',\n",
       " 'анимационные',\n",
       " 'сериалы',\n",
       " ',',\n",
       " 'мультфильмы',\n",
       " ',',\n",
       " 'телефильмы',\n",
       " ',',\n",
       " 'книги',\n",
       " ',',\n",
       " 'комиксы',\n",
       " ',',\n",
       " 'видеоигры',\n",
       " ',',\n",
       " 'игрушки',\n",
       " 'и',\n",
       " 'прочие',\n",
       " 'произведения',\n",
       " ',',\n",
       " 'созданные',\n",
       " 'в',\n",
       " 'рамках',\n",
       " 'единой',\n",
       " 'фантастической',\n",
       " 'вселенной',\n",
       " '«',\n",
       " 'Звёздных',\n",
       " 'войн',\n",
       " '»',\n",
       " ',',\n",
       " 'задуманной',\n",
       " 'и',\n",
       " 'реализованной',\n",
       " 'американским',\n",
       " 'режиссёром',\n",
       " 'Джорджем',\n",
       " 'Лукасом',\n",
       " 'в',\n",
       " 'конце',\n",
       " '1970-х',\n",
       " 'годов',\n",
       " 'и',\n",
       " 'позднее',\n",
       " 'расширенной',\n",
       " '.']"
      ]
     },
     "execution_count": 21,
     "metadata": {},
     "output_type": "execute_result"
    }
   ],
   "source": [
    "[_.text for _ in n_tok_text1]"
   ]
  },
  {
   "cell_type": "code",
   "execution_count": 22,
   "metadata": {},
   "outputs": [
    {
     "data": {
      "text/plain": [
       "[Substring(0,\n",
       "           489,\n",
       "           'Звездные войны - медиафраншиза в жанре космическая опера, включающая в себя одиннадцать художественных фильмов (9 эпизодов основной саги, также известна как «Сага Скайуокеров» и 2 фильма историй), а также анимационные сериалы, мультфильмы, телефильмы, книги, комиксы, видеоигры, игрушки и прочие произведения, созданные в рамках единой фантастической вселенной «Звёздных войн», задуманной и реализованной американским режиссёром Джорджем Лукасом в конце 1970-х годов и позднее расширенной.')]"
      ]
     },
     "execution_count": 22,
     "metadata": {},
     "output_type": "execute_result"
    }
   ],
   "source": [
    "n_sen_text1 = list(sentenize(text1))\n",
    "n_sen_text1"
   ]
  },
  {
   "cell_type": "code",
   "execution_count": 23,
   "metadata": {},
   "outputs": [
    {
     "data": {
      "text/plain": [
       "(['Звездные войны - медиафраншиза в жанре космическая опера, включающая в себя одиннадцать художественных фильмов (9 эпизодов основной саги, также известна как «Сага Скайуокеров» и 2 фильма историй), а также анимационные сериалы, мультфильмы, телефильмы, книги, комиксы, видеоигры, игрушки и прочие произведения, созданные в рамках единой фантастической вселенной «Звёздных войн», задуманной и реализованной американским режиссёром Джорджем Лукасом в конце 1970-х годов и позднее расширенной.'],\n",
       " 1)"
      ]
     },
     "execution_count": 23,
     "metadata": {},
     "output_type": "execute_result"
    }
   ],
   "source": [
    "[_.text for _ in n_sen_text1], len([_.text for _ in n_sen_text1])"
   ]
  },
  {
   "cell_type": "code",
   "execution_count": 24,
   "metadata": {},
   "outputs": [],
   "source": [
    "# Этот вариант токенизации нужен для последующей обработки\n",
    "def n_sentenize(text):\n",
    "    n_sen_chunk = []\n",
    "    for sent in sentenize(text):\n",
    "        tokens = [_.text for _ in tokenize(sent.text)]\n",
    "        n_sen_chunk.append(tokens)\n",
    "    return n_sen_chunk"
   ]
  },
  {
   "cell_type": "code",
   "execution_count": 25,
   "metadata": {},
   "outputs": [
    {
     "data": {
      "text/plain": [
       "[['Звездные',\n",
       "  'войны',\n",
       "  '-',\n",
       "  'медиафраншиза',\n",
       "  'в',\n",
       "  'жанре',\n",
       "  'космическая',\n",
       "  'опера',\n",
       "  ',',\n",
       "  'включающая',\n",
       "  'в',\n",
       "  'себя',\n",
       "  'одиннадцать',\n",
       "  'художественных',\n",
       "  'фильмов',\n",
       "  '(',\n",
       "  '9',\n",
       "  'эпизодов',\n",
       "  'основной',\n",
       "  'саги',\n",
       "  ',',\n",
       "  'также',\n",
       "  'известна',\n",
       "  'как',\n",
       "  '«',\n",
       "  'Сага',\n",
       "  'Скайуокеров',\n",
       "  '»',\n",
       "  'и',\n",
       "  '2',\n",
       "  'фильма',\n",
       "  'историй',\n",
       "  ')',\n",
       "  ',',\n",
       "  'а',\n",
       "  'также',\n",
       "  'анимационные',\n",
       "  'сериалы',\n",
       "  ',',\n",
       "  'мультфильмы',\n",
       "  ',',\n",
       "  'телефильмы',\n",
       "  ',',\n",
       "  'книги',\n",
       "  ',',\n",
       "  'комиксы',\n",
       "  ',',\n",
       "  'видеоигры',\n",
       "  ',',\n",
       "  'игрушки',\n",
       "  'и',\n",
       "  'прочие',\n",
       "  'произведения',\n",
       "  ',',\n",
       "  'созданные',\n",
       "  'в',\n",
       "  'рамках',\n",
       "  'единой',\n",
       "  'фантастической',\n",
       "  'вселенной',\n",
       "  '«',\n",
       "  'Звёздных',\n",
       "  'войн',\n",
       "  '»',\n",
       "  ',',\n",
       "  'задуманной',\n",
       "  'и',\n",
       "  'реализованной',\n",
       "  'американским',\n",
       "  'режиссёром',\n",
       "  'Джорджем',\n",
       "  'Лукасом',\n",
       "  'в',\n",
       "  'конце',\n",
       "  '1970-х',\n",
       "  'годов',\n",
       "  'и',\n",
       "  'позднее',\n",
       "  'расширенной',\n",
       "  '.']]"
      ]
     },
     "execution_count": 25,
     "metadata": {},
     "output_type": "execute_result"
    }
   ],
   "source": [
    "n_sen_chunk_1 = n_sentenize(text1)\n",
    "n_sen_chunk_1"
   ]
  },
  {
   "cell_type": "code",
   "execution_count": 26,
   "metadata": {},
   "outputs": [
    {
     "data": {
      "text/plain": [
       "[['Нельзя',\n",
       "  'остановить',\n",
       "  'перемены',\n",
       "  ',',\n",
       "  'как',\n",
       "  'нельзя',\n",
       "  'остановить',\n",
       "  'восход',\n",
       "  'солнца',\n",
       "  '.']]"
      ]
     },
     "execution_count": 26,
     "metadata": {},
     "output_type": "execute_result"
    }
   ],
   "source": [
    "n_sen_chunk_2 = n_sentenize(text2)\n",
    "n_sen_chunk_2"
   ]
  },
  {
   "cell_type": "code",
   "execution_count": 27,
   "metadata": {},
   "outputs": [
    {
     "data": {
      "text/plain": [
       "[['Теперь', 'будь', 'храбр', 'и', 'не', 'оглядывайся', 'назад', '.'],\n",
       " ['Не', 'оглядывайся', '.']]"
      ]
     },
     "execution_count": 27,
     "metadata": {},
     "output_type": "execute_result"
    }
   ],
   "source": [
    "n_sen_chunk_3 = n_sentenize(text3)\n",
    "n_sen_chunk_3"
   ]
  },
  {
   "cell_type": "markdown",
   "metadata": {},
   "source": [
    "# Частеречная разметка (Part-Of-Speech tagging, POS-tagging)¶"
   ]
  },
  {
   "cell_type": "markdown",
   "metadata": {},
   "source": [
    "### Spacy"
   ]
  },
  {
   "cell_type": "code",
   "execution_count": 28,
   "metadata": {},
   "outputs": [
    {
     "name": "stdout",
     "output_type": "stream",
     "text": [
      "Звездные - ADJ - amod\n",
      "войны - NOUN - nsubj\n",
      "- - NOUN - nsubj\n",
      "медиафраншиза - NOUN - nsubj\n",
      "в - ADP - case\n",
      "жанре - NOUN - nmod\n",
      "космическая - ADJ - amod\n",
      "опера - NOUN - ROOT\n",
      ", - PUNCT - punct\n",
      "включающая - VERB - acl\n",
      "в - ADP - case\n",
      "себя - PRON - obl\n",
      "одиннадцать - NUM - nummod:gov\n",
      "художественных - ADJ - amod\n",
      "фильмов - NOUN - obj\n",
      "( - PUNCT - punct\n",
      "9 - NUM - nummod\n",
      "эпизодов - NOUN - parataxis\n",
      "основной - ADJ - amod\n",
      "саги - NOUN - nmod\n",
      ", - PUNCT - punct\n",
      "также - ADV - advmod\n",
      "известна - ADJ - conj\n",
      "как - SCONJ - case\n",
      "« - PUNCT - punct\n",
      "Сага - PROPN - obl\n",
      "Скайуокеров - PROPN - appos\n",
      "» - PUNCT - punct\n",
      "и - CCONJ - cc\n",
      "2 - NUM - nummod:gov\n",
      "фильма - NOUN - conj\n",
      "историй - NOUN - nmod\n",
      ") - PUNCT - punct\n",
      ", - PUNCT - punct\n",
      "а - CCONJ - cc\n",
      "также - ADV - fixed\n",
      "анимационные - ADJ - amod\n",
      "сериалы - NOUN - conj\n",
      ", - PUNCT - punct\n",
      "мультфильмы - NOUN - conj\n",
      ", - PUNCT - punct\n",
      "телефильмы - NOUN - conj\n",
      ", - PUNCT - punct\n",
      "книги - NOUN - conj\n",
      ", - PUNCT - punct\n",
      "комиксы - NOUN - conj\n",
      ", - PUNCT - punct\n",
      "видеоигры - NOUN - conj\n",
      ", - PUNCT - punct\n",
      "игрушки - NOUN - conj\n",
      "и - CCONJ - cc\n",
      "прочие - ADJ - amod\n",
      "произведения - NOUN - conj\n",
      ", - PUNCT - punct\n",
      "созданные - VERB - acl\n",
      "в - ADP - case\n",
      "рамках - NOUN - obl\n",
      "единой - ADJ - amod\n",
      "фантастической - ADJ - amod\n",
      "вселенной - NOUN - nmod\n",
      "« - PUNCT - punct\n",
      "Звёздных - ADJ - amod\n",
      "войн - NOUN - nmod\n",
      "» - PUNCT - punct\n",
      ", - PUNCT - punct\n",
      "задуманной - ADJ - amod\n",
      "и - CCONJ - cc\n",
      "реализованной - VERB - conj\n",
      "американским - ADJ - amod\n",
      "режиссёром - NOUN - obl:agent\n",
      "Джорджем - PROPN - appos\n",
      "Лукасом - PROPN - flat:name\n",
      "в - ADP - case\n",
      "конце - NOUN - obl\n",
      "1970-х - ADJ - amod\n",
      "годов - NOUN - nmod\n",
      "и - CCONJ - cc\n",
      "позднее - ADV - advmod\n",
      "расширенной - VERB - conj\n",
      ". - PUNCT - punct\n"
     ]
    }
   ],
   "source": [
    "for token in spacy_text1:\n",
    "    print('{} - {} - {}'.format(token.text, token.pos_, token.dep_))"
   ]
  },
  {
   "cell_type": "markdown",
   "metadata": {},
   "source": [
    "### Natasha"
   ]
  },
  {
   "cell_type": "code",
   "execution_count": 30,
   "metadata": {},
   "outputs": [
    {
     "name": "stdout",
     "output_type": "stream",
     "text": [
      "Collecting navec\n",
      "  Downloading navec-0.10.0-py3-none-any.whl (23 kB)\n",
      "Requirement already satisfied: numpy in c:\\users\\masha\\anaconda3\\lib\\site-packages (from navec) (1.20.3)\n",
      "Installing collected packages: navec\n",
      "Successfully installed navec-0.10.0\n",
      "Collecting slovnet\n",
      "  Downloading slovnet-0.5.0-py3-none-any.whl (49 kB)\n",
      "Requirement already satisfied: razdel in c:\\users\\masha\\anaconda3\\lib\\site-packages (from slovnet) (0.5.0)\n",
      "Requirement already satisfied: navec in c:\\users\\masha\\anaconda3\\lib\\site-packages (from slovnet) (0.10.0)\n",
      "Requirement already satisfied: numpy in c:\\users\\masha\\anaconda3\\lib\\site-packages (from slovnet) (1.20.3)\n",
      "Installing collected packages: slovnet\n",
      "Successfully installed slovnet-0.5.0\n"
     ]
    }
   ],
   "source": [
    "!pip install navec\n",
    "!pip install slovnet"
   ]
  },
  {
   "cell_type": "code",
   "execution_count": 31,
   "metadata": {},
   "outputs": [],
   "source": [
    "from navec import Navec\n",
    "from slovnet import Morph"
   ]
  },
  {
   "cell_type": "code",
   "execution_count": 33,
   "metadata": {},
   "outputs": [],
   "source": [
    "# Файл необходимо скачать по ссылке https://github.com/natasha/navec#downloads\n",
    "navec = Navec.load('navec_news_v1_1B_250K_300d_100q.tar')"
   ]
  },
  {
   "cell_type": "code",
   "execution_count": 34,
   "metadata": {},
   "outputs": [],
   "source": [
    "# Файл необходимо скачать по ссылке https://github.com/natasha/slovnet#downloads\n",
    "n_morph = Morph.load('slovnet_morph_news_v1.tar', batch_size=4)"
   ]
  },
  {
   "cell_type": "code",
   "execution_count": 35,
   "metadata": {},
   "outputs": [],
   "source": [
    "morph_res = n_morph.navec(navec)"
   ]
  },
  {
   "cell_type": "code",
   "execution_count": 36,
   "metadata": {},
   "outputs": [],
   "source": [
    "def print_pos(markup):\n",
    "    for token in markup.tokens:\n",
    "        print('{} - {}'.format(token.text, token.tag))"
   ]
  },
  {
   "cell_type": "code",
   "execution_count": 37,
   "metadata": {},
   "outputs": [
    {
     "name": "stdout",
     "output_type": "stream",
     "text": [
      "Звездные - ADJ|Case=Nom|Degree=Pos|Number=Plur\n",
      "войны - NOUN|Animacy=Inan|Case=Nom|Gender=Fem|Number=Plur\n",
      "- - PUNCT\n",
      "медиафраншиза - NOUN|Animacy=Inan|Case=Nom|Gender=Fem|Number=Sing\n",
      "в - ADP\n",
      "жанре - NOUN|Animacy=Inan|Case=Loc|Gender=Masc|Number=Sing\n",
      "космическая - ADJ|Case=Nom|Degree=Pos|Gender=Fem|Number=Sing\n",
      "опера - NOUN|Animacy=Inan|Case=Nom|Gender=Fem|Number=Sing\n",
      ", - PUNCT\n",
      "включающая - VERB|Aspect=Imp|Case=Nom|Gender=Fem|Number=Sing|Tense=Pres|VerbForm=Part|Voice=Act\n",
      "в - ADP\n",
      "себя - PRON|Case=Acc\n",
      "одиннадцать - NUM|Case=Acc\n",
      "художественных - ADJ|Case=Gen|Degree=Pos|Number=Plur\n",
      "фильмов - NOUN|Animacy=Inan|Case=Gen|Gender=Masc|Number=Plur\n",
      "( - PUNCT\n",
      "9 - NUM\n",
      "эпизодов - NOUN|Animacy=Inan|Case=Gen|Gender=Masc|Number=Plur\n",
      "основной - ADJ|Case=Gen|Degree=Pos|Gender=Fem|Number=Sing\n",
      "саги - NOUN|Animacy=Inan|Case=Gen|Gender=Fem|Number=Sing\n",
      ", - PUNCT\n",
      "также - ADV|Degree=Pos\n",
      "известна - ADJ|Degree=Pos|Gender=Fem|Number=Sing|Variant=Short\n",
      "как - SCONJ\n",
      "« - PUNCT\n",
      "Сага - NOUN|Animacy=Inan|Case=Nom|Gender=Fem|Number=Sing\n",
      "Скайуокеров - PROPN|Animacy=Anim|Case=Gen|Gender=Masc|Number=Sing\n",
      "» - PUNCT\n",
      "и - CCONJ\n",
      "2 - NUM\n",
      "фильма - NOUN|Animacy=Inan|Case=Gen|Gender=Masc|Number=Sing\n",
      "историй - NOUN|Animacy=Inan|Case=Gen|Gender=Fem|Number=Plur\n",
      ") - PUNCT\n",
      ", - PUNCT\n",
      "а - CCONJ\n",
      "также - ADV|Degree=Pos\n",
      "анимационные - ADJ|Case=Nom|Degree=Pos|Number=Plur\n",
      "сериалы - NOUN|Animacy=Inan|Case=Acc|Gender=Masc|Number=Plur\n",
      ", - PUNCT\n",
      "мультфильмы - NOUN|Animacy=Inan|Case=Acc|Gender=Masc|Number=Plur\n",
      ", - PUNCT\n",
      "телефильмы - NOUN|Animacy=Inan|Case=Acc|Gender=Masc|Number=Plur\n",
      ", - PUNCT\n",
      "книги - NOUN|Animacy=Inan|Case=Acc|Gender=Fem|Number=Plur\n",
      ", - PUNCT\n",
      "комиксы - NOUN|Animacy=Inan|Case=Nom|Gender=Masc|Number=Plur\n",
      ", - PUNCT\n",
      "видеоигры - NOUN|Animacy=Inan|Case=Nom|Gender=Fem|Number=Plur\n",
      ", - PUNCT\n",
      "игрушки - NOUN|Animacy=Inan|Case=Nom|Gender=Fem|Number=Plur\n",
      "и - CCONJ\n",
      "прочие - ADJ|Case=Nom|Degree=Pos|Number=Plur\n",
      "произведения - NOUN|Animacy=Inan|Case=Nom|Gender=Neut|Number=Plur\n",
      ", - PUNCT\n",
      "созданные - VERB|Aspect=Perf|Case=Nom|Number=Plur|Tense=Past|VerbForm=Part|Voice=Pass\n",
      "в - ADP\n",
      "рамках - NOUN|Animacy=Inan|Case=Loc|Gender=Fem|Number=Plur\n",
      "единой - ADJ|Case=Gen|Degree=Pos|Gender=Fem|Number=Sing\n",
      "фантастической - ADJ|Case=Gen|Degree=Pos|Gender=Fem|Number=Sing\n",
      "вселенной - NOUN|Animacy=Inan|Case=Gen|Gender=Fem|Number=Sing\n",
      "« - PUNCT\n",
      "Звёздных - ADJ|Case=Gen|Degree=Pos|Number=Plur\n",
      "войн - NOUN|Animacy=Inan|Case=Gen|Gender=Fem|Number=Plur\n",
      "» - PUNCT\n",
      ", - PUNCT\n",
      "задуманной - VERB|Aspect=Perf|Case=Gen|Gender=Fem|Number=Sing|Tense=Past|VerbForm=Part|Voice=Pass\n",
      "и - CCONJ\n",
      "реализованной - VERB|Aspect=Perf|Case=Ins|Gender=Fem|Number=Sing|Tense=Past|VerbForm=Part|Voice=Pass\n",
      "американским - ADJ|Case=Ins|Degree=Pos|Gender=Masc|Number=Sing\n",
      "режиссёром - NOUN|Animacy=Anim|Case=Ins|Gender=Masc|Number=Sing\n",
      "Джорджем - PROPN|Animacy=Anim|Case=Ins|Gender=Masc|Number=Sing\n",
      "Лукасом - PROPN|Animacy=Anim|Case=Ins|Gender=Masc|Number=Sing\n",
      "в - ADP\n",
      "конце - NOUN|Animacy=Inan|Case=Loc|Gender=Masc|Number=Sing\n",
      "1970-х - ADJ|Case=Gen|Degree=Pos|Number=Plur\n",
      "годов - NOUN|Animacy=Inan|Case=Gen|Gender=Masc|Number=Plur\n",
      "и - CCONJ\n",
      "позднее - ADV|Degree=Cmp\n",
      "расширенной - VERB|Aspect=Perf|Case=Ins|Gender=Fem|Number=Sing|Tense=Past|VerbForm=Part|Voice=Pass\n",
      ". - PUNCT\n"
     ]
    },
    {
     "data": {
      "text/plain": [
       "[None]"
      ]
     },
     "execution_count": 37,
     "metadata": {},
     "output_type": "execute_result"
    }
   ],
   "source": [
    "n_text1_markup = list(_ for _ in n_morph.map(n_sen_chunk_1))\n",
    "[print_pos(x) for x in n_text1_markup]"
   ]
  },
  {
   "cell_type": "code",
   "execution_count": 38,
   "metadata": {},
   "outputs": [
    {
     "name": "stdout",
     "output_type": "stream",
     "text": [
      "Нельзя - ADV|Degree=Pos\n",
      "остановить - VERB|Aspect=Perf|VerbForm=Inf|Voice=Act\n",
      "перемены - NOUN|Animacy=Inan|Case=Acc|Gender=Fem|Number=Plur\n",
      ", - PUNCT\n",
      "как - ADV|Degree=Pos\n",
      "нельзя - ADV|Degree=Pos\n",
      "остановить - VERB|Aspect=Perf|VerbForm=Inf|Voice=Act\n",
      "восход - NOUN|Animacy=Inan|Case=Acc|Gender=Masc|Number=Sing\n",
      "солнца - NOUN|Animacy=Inan|Case=Gen|Gender=Neut|Number=Sing\n",
      ". - PUNCT\n"
     ]
    },
    {
     "data": {
      "text/plain": [
       "[None]"
      ]
     },
     "execution_count": 38,
     "metadata": {},
     "output_type": "execute_result"
    }
   ],
   "source": [
    "n_text2_markup = list(n_morph.map(n_sen_chunk_2))\n",
    "[print_pos(x) for x in n_text2_markup]"
   ]
  },
  {
   "cell_type": "code",
   "execution_count": 39,
   "metadata": {},
   "outputs": [
    {
     "name": "stdout",
     "output_type": "stream",
     "text": [
      "Теперь - ADV|Degree=Pos\n",
      "будь - AUX|Aspect=Imp|Mood=Imp|Number=Sing|Person=2|VerbForm=Fin|Voice=Act\n",
      "храбр - ADJ|Degree=Cmp\n",
      "и - CCONJ\n",
      "не - PART|Polarity=Neg\n",
      "оглядывайся - VERB|Aspect=Imp|Gender=Neut|Mood=Ind|Number=Sing|Tense=Past|VerbForm=Fin|Voice=Pass\n",
      "назад - ADV|Degree=Pos\n",
      ". - PUNCT\n",
      "Не - PART|Polarity=Neg\n",
      "оглядывайся - VERB|Aspect=Perf|Mood=Ind|Number=Sing|Person=2|Tense=Fut|VerbForm=Fin|Voice=Act\n",
      ". - PUNCT\n"
     ]
    },
    {
     "data": {
      "text/plain": [
       "[None, None]"
      ]
     },
     "execution_count": 39,
     "metadata": {},
     "output_type": "execute_result"
    }
   ],
   "source": [
    "n_text3_markup = list(n_morph.map(n_sen_chunk_3))\n",
    "[print_pos(x) for x in n_text3_markup]"
   ]
  },
  {
   "cell_type": "markdown",
   "metadata": {},
   "source": [
    "# Лемматизация"
   ]
  },
  {
   "cell_type": "markdown",
   "metadata": {},
   "source": [
    "### Spacy"
   ]
  },
  {
   "cell_type": "code",
   "execution_count": 40,
   "metadata": {},
   "outputs": [
    {
     "name": "stdout",
     "output_type": "stream",
     "text": [
      "Звездные 17731991779929376700 звёздный\n",
      "войны 18440439416055861454 война\n",
      "- 9153284864653046197 -\n",
      "медиафраншиза 5838980763889453628 медиафраншиза\n",
      "в 15939375860797385675 в\n",
      "жанре 1817661864846418667 жанр\n",
      "космическая 3853173216051870802 космический\n",
      "опера 5587030616457117633 опера\n",
      ", 2593208677638477497 ,\n",
      "включающая 10941083065086746554 включать\n",
      "в 15939375860797385675 в\n",
      "себя 2348613486186662547 себя\n",
      "одиннадцать 2112754746756791658 одиннадцать\n",
      "художественных 16199563427232250417 художественный\n",
      "фильмов 8792413013557735371 фильм\n",
      "( 12638816674900267446 (\n",
      "9 1819085394523955522 9\n",
      "эпизодов 7499435473204643737 эпизод\n",
      "основной 10259815185512192724 основной\n",
      "саги 6015725807939445849 сага\n",
      ", 2593208677638477497 ,\n",
      "также 11546836710665881258 также\n",
      "известна 6532147010109058382 известный\n",
      "как 13039644133688645009 как\n",
      "« 15884554869126768810 \"\n",
      "Сага 6015725807939445849 сага\n",
      "Скайуокеров 252700817708975141 скайуокеров\n",
      "» 15884554869126768810 \"\n",
      "и 15015917632809974589 и\n",
      "2 15180167692696242062 2\n",
      "фильма 8792413013557735371 фильм\n",
      "историй 70330237376083049 история\n",
      ") 3842344029291005339 )\n",
      ", 2593208677638477497 ,\n",
      "а 17720396644590851627 а\n",
      "также 11546836710665881258 также\n",
      "анимационные 5758154563427645242 анимационный\n",
      "сериалы 5184991382397667262 сериал\n",
      ", 2593208677638477497 ,\n",
      "мультфильмы 12439294027781549664 мультфильм\n",
      ", 2593208677638477497 ,\n",
      "телефильмы 12611696035471367520 телефильм\n",
      ", 2593208677638477497 ,\n",
      "книги 6587368699761570485 книга\n",
      ", 2593208677638477497 ,\n",
      "комиксы 14793208181948508780 комикс\n",
      ", 2593208677638477497 ,\n",
      "видеоигры 11407321773098061314 видеоигра\n",
      ", 2593208677638477497 ,\n",
      "игрушки 1350572745983716182 игрушка\n",
      "и 15015917632809974589 и\n",
      "прочие 12213983834093542929 прочие\n",
      "произведения 3189213723711071310 произведение\n",
      ", 2593208677638477497 ,\n",
      "созданные 7369385429086598757 создать\n",
      "в 15939375860797385675 в\n",
      "рамках 8454697904280072936 рамка\n",
      "единой 5326845349730658708 единый\n",
      "фантастической 7095493709405138208 фантастический\n",
      "вселенной 15751519156808237518 вселенная\n",
      "« 15884554869126768810 \"\n",
      "Звёздных 17731991779929376700 звёздный\n",
      "войн 18440439416055861454 война\n",
      "» 15884554869126768810 \"\n",
      ", 2593208677638477497 ,\n",
      "задуманной 9229241012569937506 задуманной\n",
      "и 15015917632809974589 и\n",
      "реализованной 478968622806122406 реализовать\n",
      "американским 3798547030111210775 американский\n",
      "режиссёром 9694305295127011495 режиссёр\n",
      "Джорджем 1254611979758441164 джордж\n",
      "Лукасом 3380996188150851356 лукас\n",
      "в 15939375860797385675 в\n",
      "конце 9472282250962361753 конец\n",
      "1970-х 6503642845841034169 1970-й\n",
      "годов 10808799184780049468 год\n",
      "и 15015917632809974589 и\n",
      "позднее 4947414518877986409 позднее\n",
      "расширенной 5784968891110781881 расширить\n",
      ". 12646065887601541794 .\n"
     ]
    }
   ],
   "source": [
    "for token in spacy_text1:\n",
    "      print(token, token.lemma, token.lemma_)"
   ]
  },
  {
   "cell_type": "markdown",
   "metadata": {},
   "source": [
    "### Natasha"
   ]
  },
  {
   "cell_type": "code",
   "execution_count": 42,
   "metadata": {},
   "outputs": [
    {
     "name": "stdout",
     "output_type": "stream",
     "text": [
      "Collecting natasha\n",
      "  Downloading natasha-1.4.0-py3-none-any.whl (34.4 MB)\n",
      "Requirement already satisfied: pymorphy2 in c:\\users\\masha\\anaconda3\\lib\\site-packages (from natasha) (0.9.1)\n",
      "Collecting ipymarkup>=0.8.0\n",
      "  Downloading ipymarkup-0.9.0-py3-none-any.whl (14 kB)\n",
      "Requirement already satisfied: razdel>=0.5.0 in c:\\users\\masha\\anaconda3\\lib\\site-packages (from natasha) (0.5.0)\n",
      "Requirement already satisfied: slovnet>=0.3.0 in c:\\users\\masha\\anaconda3\\lib\\site-packages (from natasha) (0.5.0)\n",
      "Requirement already satisfied: navec>=0.9.0 in c:\\users\\masha\\anaconda3\\lib\\site-packages (from natasha) (0.10.0)\n",
      "Collecting yargy>=0.14.0\n",
      "  Downloading yargy-0.15.0-py3-none-any.whl (41 kB)\n",
      "Requirement already satisfied: intervaltree>=3 in c:\\users\\masha\\anaconda3\\lib\\site-packages (from ipymarkup>=0.8.0->natasha) (3.1.0)\n",
      "Requirement already satisfied: sortedcontainers<3.0,>=2.0 in c:\\users\\masha\\anaconda3\\lib\\site-packages (from intervaltree>=3->ipymarkup>=0.8.0->natasha) (2.2.2)\n",
      "Requirement already satisfied: numpy in c:\\users\\masha\\anaconda3\\lib\\site-packages (from navec>=0.9.0->natasha) (1.20.3)\n",
      "Requirement already satisfied: dawg-python>=0.7.1 in c:\\users\\masha\\anaconda3\\lib\\site-packages (from pymorphy2->natasha) (0.7.2)\n",
      "Requirement already satisfied: docopt>=0.6 in c:\\users\\masha\\anaconda3\\lib\\site-packages (from pymorphy2->natasha) (0.6.2)\n",
      "Requirement already satisfied: pymorphy2-dicts-ru<3.0,>=2.4 in c:\\users\\masha\\anaconda3\\lib\\site-packages (from pymorphy2->natasha) (2.4.417127.4579844)\n",
      "Installing collected packages: yargy, ipymarkup, natasha\n",
      "Successfully installed ipymarkup-0.9.0 natasha-1.4.0 yargy-0.15.0\n"
     ]
    }
   ],
   "source": [
    "!pip install natasha"
   ]
  },
  {
   "cell_type": "code",
   "execution_count": 43,
   "metadata": {},
   "outputs": [],
   "source": [
    "from natasha import Doc, Segmenter, NewsEmbedding, NewsMorphTagger, MorphVocab"
   ]
  },
  {
   "cell_type": "code",
   "execution_count": 44,
   "metadata": {},
   "outputs": [],
   "source": [
    "def n_lemmatize(text):\n",
    "    emb = NewsEmbedding()\n",
    "    morph_tagger = NewsMorphTagger(emb)\n",
    "    segmenter = Segmenter()\n",
    "    morph_vocab = MorphVocab()\n",
    "    doc = Doc(text)\n",
    "    doc.segment(segmenter)\n",
    "    doc.tag_morph(morph_tagger)\n",
    "    for token in doc.tokens:\n",
    "        token.lemmatize(morph_vocab)\n",
    "    return doc"
   ]
  },
  {
   "cell_type": "code",
   "execution_count": 45,
   "metadata": {},
   "outputs": [
    {
     "data": {
      "text/plain": [
       "{'Звездные': 'звездный',\n",
       " 'войны': 'война',\n",
       " '-': '-',\n",
       " 'медиафраншиза': 'медиафраншиза',\n",
       " 'в': 'в',\n",
       " 'жанре': 'жанр',\n",
       " 'космическая': 'космический',\n",
       " 'опера': 'опера',\n",
       " ',': ',',\n",
       " 'включающая': 'включать',\n",
       " 'себя': 'себя',\n",
       " 'одиннадцать': 'одиннадцать',\n",
       " 'художественных': 'художественный',\n",
       " 'фильмов': 'фильм',\n",
       " '(': '(',\n",
       " '9': '9',\n",
       " 'эпизодов': 'эпизод',\n",
       " 'основной': 'основный',\n",
       " 'саги': 'сага',\n",
       " 'также': 'также',\n",
       " 'известна': 'известный',\n",
       " 'как': 'как',\n",
       " '«': '«',\n",
       " 'Сага': 'сага',\n",
       " 'Скайуокеров': 'скайуокер',\n",
       " '»': '»',\n",
       " 'и': 'и',\n",
       " '2': '2',\n",
       " 'фильма': 'фильм',\n",
       " 'историй': 'история',\n",
       " ')': ')',\n",
       " 'а': 'а',\n",
       " 'анимационные': 'анимационный',\n",
       " 'сериалы': 'сериал',\n",
       " 'мультфильмы': 'мультфильм',\n",
       " 'телефильмы': 'телефильм',\n",
       " 'книги': 'книга',\n",
       " 'комиксы': 'комикс',\n",
       " 'видеоигры': 'видеоигра',\n",
       " 'игрушки': 'игрушка',\n",
       " 'прочие': 'прочий',\n",
       " 'произведения': 'произведение',\n",
       " 'созданные': 'создать',\n",
       " 'рамках': 'рамка',\n",
       " 'единой': 'единый',\n",
       " 'фантастической': 'фантастический',\n",
       " 'вселенной': 'вселенная',\n",
       " 'Звёздных': 'звездный',\n",
       " 'войн': 'война',\n",
       " 'задуманной': 'задумать',\n",
       " 'реализованной': 'реализовать',\n",
       " 'американским': 'американский',\n",
       " 'режиссёром': 'режиссер',\n",
       " 'Джорджем': 'джордж',\n",
       " 'Лукасом': 'лукас',\n",
       " 'конце': 'конец',\n",
       " '1970-х': '1970-й',\n",
       " 'годов': 'год',\n",
       " 'позднее': 'поздний',\n",
       " 'расширенной': 'расширить',\n",
       " '.': '.'}"
      ]
     },
     "execution_count": 45,
     "metadata": {},
     "output_type": "execute_result"
    }
   ],
   "source": [
    "n_doc1 = n_lemmatize(text1)\n",
    "{_.text: _.lemma for _ in n_doc1.tokens}"
   ]
  },
  {
   "cell_type": "code",
   "execution_count": 46,
   "metadata": {},
   "outputs": [
    {
     "data": {
      "text/plain": [
       "{'Нельзя': 'нельзя',\n",
       " 'остановить': 'остановить',\n",
       " 'перемены': 'перемена',\n",
       " ',': ',',\n",
       " 'как': 'как',\n",
       " 'нельзя': 'нельзя',\n",
       " 'восход': 'восход',\n",
       " 'солнца': 'солнце',\n",
       " '.': '.'}"
      ]
     },
     "execution_count": 46,
     "metadata": {},
     "output_type": "execute_result"
    }
   ],
   "source": [
    "n_doc2 = n_lemmatize(text2)\n",
    "{_.text: _.lemma for _ in n_doc2.tokens}"
   ]
  },
  {
   "cell_type": "code",
   "execution_count": 47,
   "metadata": {},
   "outputs": [
    {
     "data": {
      "text/plain": [
       "{'Теперь': 'теперь',\n",
       " 'будь': 'быть',\n",
       " 'храбр': 'храбрый',\n",
       " 'и': 'и',\n",
       " 'не': 'не',\n",
       " 'оглядывайся': 'оглядываться',\n",
       " 'назад': 'назад',\n",
       " '.': '.',\n",
       " 'Не': 'не'}"
      ]
     },
     "execution_count": 47,
     "metadata": {},
     "output_type": "execute_result"
    }
   ],
   "source": [
    "n_doc3 = n_lemmatize(text3)\n",
    "{_.text: _.lemma for _ in n_doc3.tokens}"
   ]
  },
  {
   "cell_type": "markdown",
   "metadata": {},
   "source": [
    "# Выделение (распознавание) именованных сущностей, named-entity recognition (NER)"
   ]
  },
  {
   "cell_type": "markdown",
   "metadata": {},
   "source": [
    "### Spacy"
   ]
  },
  {
   "cell_type": "code",
   "execution_count": 50,
   "metadata": {},
   "outputs": [
    {
     "name": "stdout",
     "output_type": "stream",
     "text": [
      "Сага Скайуокеров ORG\n",
      "Джорджем Лукасом PER\n"
     ]
    }
   ],
   "source": [
    "for ent in spacy_text1.ents:\n",
    "    print(ent.text, ent.label_)"
   ]
  },
  {
   "cell_type": "code",
   "execution_count": 52,
   "metadata": {},
   "outputs": [
    {
     "data": {
      "text/html": [
       "<span class=\"tex2jax_ignore\"><div class=\"entities\" style=\"line-height: 2.5; direction: ltr\">Звездные войны - медиафраншиза в жанре космическая опера, включающая в себя одиннадцать художественных фильмов (9 эпизодов основной саги, также известна как «\n",
       "<mark class=\"entity\" style=\"background: #7aecec; padding: 0.45em 0.6em; margin: 0 0.25em; line-height: 1; border-radius: 0.35em;\">\n",
       "    Сага Скайуокеров\n",
       "    <span style=\"font-size: 0.8em; font-weight: bold; line-height: 1; border-radius: 0.35em; vertical-align: middle; margin-left: 0.5rem\">ORG</span>\n",
       "</mark>\n",
       "» и 2 фильма историй), а также анимационные сериалы, мультфильмы, телефильмы, книги, комиксы, видеоигры, игрушки и прочие произведения, созданные в рамках единой фантастической вселенной «Звёздных войн», задуманной и реализованной американским режиссёром \n",
       "<mark class=\"entity\" style=\"background: #ddd; padding: 0.45em 0.6em; margin: 0 0.25em; line-height: 1; border-radius: 0.35em;\">\n",
       "    Джорджем Лукасом\n",
       "    <span style=\"font-size: 0.8em; font-weight: bold; line-height: 1; border-radius: 0.35em; vertical-align: middle; margin-left: 0.5rem\">PER</span>\n",
       "</mark>\n",
       " в конце 1970-х годов и позднее расширенной.</div></span>"
      ],
      "text/plain": [
       "<IPython.core.display.HTML object>"
      ]
     },
     "metadata": {},
     "output_type": "display_data"
    }
   ],
   "source": [
    "from spacy import displacy\n",
    "displacy.render(spacy_text1, style='ent', jupyter=True)"
   ]
  },
  {
   "cell_type": "code",
   "execution_count": 53,
   "metadata": {},
   "outputs": [
    {
     "name": "stdout",
     "output_type": "stream",
     "text": [
      "Companies, agencies, institutions, etc.\n"
     ]
    }
   ],
   "source": [
    "print(spacy.explain(\"ORG\"))"
   ]
  },
  {
   "cell_type": "code",
   "execution_count": 54,
   "metadata": {},
   "outputs": [
    {
     "name": "stdout",
     "output_type": "stream",
     "text": [
      "Named person or family.\n"
     ]
    }
   ],
   "source": [
    "print(spacy.explain(\"PER\"))"
   ]
  },
  {
   "cell_type": "markdown",
   "metadata": {},
   "source": [
    "### Natasha"
   ]
  },
  {
   "cell_type": "code",
   "execution_count": 55,
   "metadata": {},
   "outputs": [],
   "source": [
    "from slovnet import NER\n",
    "from ipymarkup import show_span_ascii_markup as show_markup"
   ]
  },
  {
   "cell_type": "code",
   "execution_count": 57,
   "metadata": {},
   "outputs": [],
   "source": [
    "ner = NER.load('slovnet_ner_news_v1.tar')"
   ]
  },
  {
   "cell_type": "code",
   "execution_count": 58,
   "metadata": {},
   "outputs": [],
   "source": [
    "ner_res = ner.navec(navec)"
   ]
  },
  {
   "cell_type": "code",
   "execution_count": 62,
   "metadata": {},
   "outputs": [],
   "source": [
    "markup_ner1 = ner(text1)"
   ]
  },
  {
   "cell_type": "code",
   "execution_count": 63,
   "metadata": {},
   "outputs": [
    {
     "data": {
      "text/plain": [
       "SpanMarkup(\n",
       "    text='Звездные войны - медиафраншиза в жанре космическая опера, включающая в себя одиннадцать художественных фильмов (9 эпизодов основной саги, также известна как «Сага Скайуокеров» и 2 фильма историй), а также анимационные сериалы, мультфильмы, телефильмы, книги, комиксы, видеоигры, игрушки и прочие произведения, созданные в рамках единой фантастической вселенной «Звёздных войн», задуманной и реализованной американским режиссёром Джорджем Лукасом в конце 1970-х годов и позднее расширенной.',\n",
       "    spans=[Span(\n",
       "         start=429,\n",
       "         stop=445,\n",
       "         type='PER'\n",
       "     )]\n",
       ")"
      ]
     },
     "execution_count": 63,
     "metadata": {},
     "output_type": "execute_result"
    }
   ],
   "source": [
    "markup_ner1"
   ]
  },
  {
   "cell_type": "code",
   "execution_count": 64,
   "metadata": {},
   "outputs": [
    {
     "name": "stdout",
     "output_type": "stream",
     "text": [
      "Звездные войны - медиафраншиза в жанре космическая опера, включающая в\n",
      " себя одиннадцать художественных фильмов (9 эпизодов основной саги, \n",
      "также известна как «Сага Скайуокеров» и 2 фильма историй), а также \n",
      "анимационные сериалы, мультфильмы, телефильмы, книги, комиксы, \n",
      "видеоигры, игрушки и прочие произведения, созданные в рамках единой \n",
      "фантастической вселенной «Звёздных войн», задуманной и реализованной \n",
      "американским режиссёром Джорджем Лукасом в конце 1970-х годов и \n",
      "                        PER─────────────                        \n",
      "позднее расширенной.\n"
     ]
    }
   ],
   "source": [
    "show_markup(markup_ner1.text, markup_ner1.spans)"
   ]
  },
  {
   "cell_type": "markdown",
   "metadata": {},
   "source": [
    "# Разбор предложения"
   ]
  },
  {
   "cell_type": "markdown",
   "metadata": {},
   "source": [
    "### Spacy"
   ]
  },
  {
   "cell_type": "code",
   "execution_count": 65,
   "metadata": {},
   "outputs": [],
   "source": [
    "from spacy import displacy"
   ]
  },
  {
   "cell_type": "code",
   "execution_count": 66,
   "metadata": {},
   "outputs": [
    {
     "data": {
      "text/html": [
       "<span class=\"tex2jax_ignore\"><svg xmlns=\"http://www.w3.org/2000/svg\" xmlns:xlink=\"http://www.w3.org/1999/xlink\" xml:lang=\"ru\" id=\"e02d49651bb241faba356780a729fad2-0\" class=\"displacy\" width=\"10725\" height=\"1012.0\" direction=\"ltr\" style=\"max-width: none; height: 1012.0px; color: #000000; background: #ffffff; font-family: Arial; direction: ltr\">\n",
       "<text class=\"displacy-token\" fill=\"currentColor\" text-anchor=\"middle\" y=\"922.0\">\n",
       "    <tspan class=\"displacy-word\" fill=\"currentColor\" x=\"50\">Звездные</tspan>\n",
       "    <tspan class=\"displacy-tag\" dy=\"2em\" fill=\"currentColor\" x=\"50\">ADJ</tspan>\n",
       "</text>\n",
       "\n",
       "<text class=\"displacy-token\" fill=\"currentColor\" text-anchor=\"middle\" y=\"922.0\">\n",
       "    <tspan class=\"displacy-word\" fill=\"currentColor\" x=\"225\">войны -</tspan>\n",
       "    <tspan class=\"displacy-tag\" dy=\"2em\" fill=\"currentColor\" x=\"225\">NOUN</tspan>\n",
       "</text>\n",
       "\n",
       "<text class=\"displacy-token\" fill=\"currentColor\" text-anchor=\"middle\" y=\"922.0\">\n",
       "    <tspan class=\"displacy-word\" fill=\"currentColor\" x=\"400\">медиафраншиза</tspan>\n",
       "    <tspan class=\"displacy-tag\" dy=\"2em\" fill=\"currentColor\" x=\"400\">NOUN</tspan>\n",
       "</text>\n",
       "\n",
       "<text class=\"displacy-token\" fill=\"currentColor\" text-anchor=\"middle\" y=\"922.0\">\n",
       "    <tspan class=\"displacy-word\" fill=\"currentColor\" x=\"575\">в</tspan>\n",
       "    <tspan class=\"displacy-tag\" dy=\"2em\" fill=\"currentColor\" x=\"575\">ADP</tspan>\n",
       "</text>\n",
       "\n",
       "<text class=\"displacy-token\" fill=\"currentColor\" text-anchor=\"middle\" y=\"922.0\">\n",
       "    <tspan class=\"displacy-word\" fill=\"currentColor\" x=\"750\">жанре</tspan>\n",
       "    <tspan class=\"displacy-tag\" dy=\"2em\" fill=\"currentColor\" x=\"750\">NOUN</tspan>\n",
       "</text>\n",
       "\n",
       "<text class=\"displacy-token\" fill=\"currentColor\" text-anchor=\"middle\" y=\"922.0\">\n",
       "    <tspan class=\"displacy-word\" fill=\"currentColor\" x=\"925\">космическая</tspan>\n",
       "    <tspan class=\"displacy-tag\" dy=\"2em\" fill=\"currentColor\" x=\"925\">ADJ</tspan>\n",
       "</text>\n",
       "\n",
       "<text class=\"displacy-token\" fill=\"currentColor\" text-anchor=\"middle\" y=\"922.0\">\n",
       "    <tspan class=\"displacy-word\" fill=\"currentColor\" x=\"1100\">опера,</tspan>\n",
       "    <tspan class=\"displacy-tag\" dy=\"2em\" fill=\"currentColor\" x=\"1100\">NOUN</tspan>\n",
       "</text>\n",
       "\n",
       "<text class=\"displacy-token\" fill=\"currentColor\" text-anchor=\"middle\" y=\"922.0\">\n",
       "    <tspan class=\"displacy-word\" fill=\"currentColor\" x=\"1275\">включающая</tspan>\n",
       "    <tspan class=\"displacy-tag\" dy=\"2em\" fill=\"currentColor\" x=\"1275\">VERB</tspan>\n",
       "</text>\n",
       "\n",
       "<text class=\"displacy-token\" fill=\"currentColor\" text-anchor=\"middle\" y=\"922.0\">\n",
       "    <tspan class=\"displacy-word\" fill=\"currentColor\" x=\"1450\">в</tspan>\n",
       "    <tspan class=\"displacy-tag\" dy=\"2em\" fill=\"currentColor\" x=\"1450\">ADP</tspan>\n",
       "</text>\n",
       "\n",
       "<text class=\"displacy-token\" fill=\"currentColor\" text-anchor=\"middle\" y=\"922.0\">\n",
       "    <tspan class=\"displacy-word\" fill=\"currentColor\" x=\"1625\">себя</tspan>\n",
       "    <tspan class=\"displacy-tag\" dy=\"2em\" fill=\"currentColor\" x=\"1625\">PRON</tspan>\n",
       "</text>\n",
       "\n",
       "<text class=\"displacy-token\" fill=\"currentColor\" text-anchor=\"middle\" y=\"922.0\">\n",
       "    <tspan class=\"displacy-word\" fill=\"currentColor\" x=\"1800\">одиннадцать</tspan>\n",
       "    <tspan class=\"displacy-tag\" dy=\"2em\" fill=\"currentColor\" x=\"1800\">NUM</tspan>\n",
       "</text>\n",
       "\n",
       "<text class=\"displacy-token\" fill=\"currentColor\" text-anchor=\"middle\" y=\"922.0\">\n",
       "    <tspan class=\"displacy-word\" fill=\"currentColor\" x=\"1975\">художественных</tspan>\n",
       "    <tspan class=\"displacy-tag\" dy=\"2em\" fill=\"currentColor\" x=\"1975\">ADJ</tspan>\n",
       "</text>\n",
       "\n",
       "<text class=\"displacy-token\" fill=\"currentColor\" text-anchor=\"middle\" y=\"922.0\">\n",
       "    <tspan class=\"displacy-word\" fill=\"currentColor\" x=\"2150\">фильмов (</tspan>\n",
       "    <tspan class=\"displacy-tag\" dy=\"2em\" fill=\"currentColor\" x=\"2150\">NOUN</tspan>\n",
       "</text>\n",
       "\n",
       "<text class=\"displacy-token\" fill=\"currentColor\" text-anchor=\"middle\" y=\"922.0\">\n",
       "    <tspan class=\"displacy-word\" fill=\"currentColor\" x=\"2325\">9</tspan>\n",
       "    <tspan class=\"displacy-tag\" dy=\"2em\" fill=\"currentColor\" x=\"2325\">NUM</tspan>\n",
       "</text>\n",
       "\n",
       "<text class=\"displacy-token\" fill=\"currentColor\" text-anchor=\"middle\" y=\"922.0\">\n",
       "    <tspan class=\"displacy-word\" fill=\"currentColor\" x=\"2500\">эпизодов</tspan>\n",
       "    <tspan class=\"displacy-tag\" dy=\"2em\" fill=\"currentColor\" x=\"2500\">NOUN</tspan>\n",
       "</text>\n",
       "\n",
       "<text class=\"displacy-token\" fill=\"currentColor\" text-anchor=\"middle\" y=\"922.0\">\n",
       "    <tspan class=\"displacy-word\" fill=\"currentColor\" x=\"2675\">основной</tspan>\n",
       "    <tspan class=\"displacy-tag\" dy=\"2em\" fill=\"currentColor\" x=\"2675\">ADJ</tspan>\n",
       "</text>\n",
       "\n",
       "<text class=\"displacy-token\" fill=\"currentColor\" text-anchor=\"middle\" y=\"922.0\">\n",
       "    <tspan class=\"displacy-word\" fill=\"currentColor\" x=\"2850\">саги,</tspan>\n",
       "    <tspan class=\"displacy-tag\" dy=\"2em\" fill=\"currentColor\" x=\"2850\">NOUN</tspan>\n",
       "</text>\n",
       "\n",
       "<text class=\"displacy-token\" fill=\"currentColor\" text-anchor=\"middle\" y=\"922.0\">\n",
       "    <tspan class=\"displacy-word\" fill=\"currentColor\" x=\"3025\">также</tspan>\n",
       "    <tspan class=\"displacy-tag\" dy=\"2em\" fill=\"currentColor\" x=\"3025\">ADV</tspan>\n",
       "</text>\n",
       "\n",
       "<text class=\"displacy-token\" fill=\"currentColor\" text-anchor=\"middle\" y=\"922.0\">\n",
       "    <tspan class=\"displacy-word\" fill=\"currentColor\" x=\"3200\">известна</tspan>\n",
       "    <tspan class=\"displacy-tag\" dy=\"2em\" fill=\"currentColor\" x=\"3200\">ADJ</tspan>\n",
       "</text>\n",
       "\n",
       "<text class=\"displacy-token\" fill=\"currentColor\" text-anchor=\"middle\" y=\"922.0\">\n",
       "    <tspan class=\"displacy-word\" fill=\"currentColor\" x=\"3375\">как «</tspan>\n",
       "    <tspan class=\"displacy-tag\" dy=\"2em\" fill=\"currentColor\" x=\"3375\">SCONJ</tspan>\n",
       "</text>\n",
       "\n",
       "<text class=\"displacy-token\" fill=\"currentColor\" text-anchor=\"middle\" y=\"922.0\">\n",
       "    <tspan class=\"displacy-word\" fill=\"currentColor\" x=\"3550\">Сага</tspan>\n",
       "    <tspan class=\"displacy-tag\" dy=\"2em\" fill=\"currentColor\" x=\"3550\">PROPN</tspan>\n",
       "</text>\n",
       "\n",
       "<text class=\"displacy-token\" fill=\"currentColor\" text-anchor=\"middle\" y=\"922.0\">\n",
       "    <tspan class=\"displacy-word\" fill=\"currentColor\" x=\"3725\">Скайуокеров»</tspan>\n",
       "    <tspan class=\"displacy-tag\" dy=\"2em\" fill=\"currentColor\" x=\"3725\">PROPN</tspan>\n",
       "</text>\n",
       "\n",
       "<text class=\"displacy-token\" fill=\"currentColor\" text-anchor=\"middle\" y=\"922.0\">\n",
       "    <tspan class=\"displacy-word\" fill=\"currentColor\" x=\"3900\">и</tspan>\n",
       "    <tspan class=\"displacy-tag\" dy=\"2em\" fill=\"currentColor\" x=\"3900\">CCONJ</tspan>\n",
       "</text>\n",
       "\n",
       "<text class=\"displacy-token\" fill=\"currentColor\" text-anchor=\"middle\" y=\"922.0\">\n",
       "    <tspan class=\"displacy-word\" fill=\"currentColor\" x=\"4075\">2</tspan>\n",
       "    <tspan class=\"displacy-tag\" dy=\"2em\" fill=\"currentColor\" x=\"4075\">NUM</tspan>\n",
       "</text>\n",
       "\n",
       "<text class=\"displacy-token\" fill=\"currentColor\" text-anchor=\"middle\" y=\"922.0\">\n",
       "    <tspan class=\"displacy-word\" fill=\"currentColor\" x=\"4250\">фильма</tspan>\n",
       "    <tspan class=\"displacy-tag\" dy=\"2em\" fill=\"currentColor\" x=\"4250\">NOUN</tspan>\n",
       "</text>\n",
       "\n",
       "<text class=\"displacy-token\" fill=\"currentColor\" text-anchor=\"middle\" y=\"922.0\">\n",
       "    <tspan class=\"displacy-word\" fill=\"currentColor\" x=\"4425\">историй),</tspan>\n",
       "    <tspan class=\"displacy-tag\" dy=\"2em\" fill=\"currentColor\" x=\"4425\">NOUN</tspan>\n",
       "</text>\n",
       "\n",
       "<text class=\"displacy-token\" fill=\"currentColor\" text-anchor=\"middle\" y=\"922.0\">\n",
       "    <tspan class=\"displacy-word\" fill=\"currentColor\" x=\"4600\">а</tspan>\n",
       "    <tspan class=\"displacy-tag\" dy=\"2em\" fill=\"currentColor\" x=\"4600\">CCONJ</tspan>\n",
       "</text>\n",
       "\n",
       "<text class=\"displacy-token\" fill=\"currentColor\" text-anchor=\"middle\" y=\"922.0\">\n",
       "    <tspan class=\"displacy-word\" fill=\"currentColor\" x=\"4775\">также</tspan>\n",
       "    <tspan class=\"displacy-tag\" dy=\"2em\" fill=\"currentColor\" x=\"4775\">ADV</tspan>\n",
       "</text>\n",
       "\n",
       "<text class=\"displacy-token\" fill=\"currentColor\" text-anchor=\"middle\" y=\"922.0\">\n",
       "    <tspan class=\"displacy-word\" fill=\"currentColor\" x=\"4950\">анимационные</tspan>\n",
       "    <tspan class=\"displacy-tag\" dy=\"2em\" fill=\"currentColor\" x=\"4950\">ADJ</tspan>\n",
       "</text>\n",
       "\n",
       "<text class=\"displacy-token\" fill=\"currentColor\" text-anchor=\"middle\" y=\"922.0\">\n",
       "    <tspan class=\"displacy-word\" fill=\"currentColor\" x=\"5125\">сериалы,</tspan>\n",
       "    <tspan class=\"displacy-tag\" dy=\"2em\" fill=\"currentColor\" x=\"5125\">NOUN</tspan>\n",
       "</text>\n",
       "\n",
       "<text class=\"displacy-token\" fill=\"currentColor\" text-anchor=\"middle\" y=\"922.0\">\n",
       "    <tspan class=\"displacy-word\" fill=\"currentColor\" x=\"5300\">мультфильмы,</tspan>\n",
       "    <tspan class=\"displacy-tag\" dy=\"2em\" fill=\"currentColor\" x=\"5300\">NOUN</tspan>\n",
       "</text>\n",
       "\n",
       "<text class=\"displacy-token\" fill=\"currentColor\" text-anchor=\"middle\" y=\"922.0\">\n",
       "    <tspan class=\"displacy-word\" fill=\"currentColor\" x=\"5475\">телефильмы,</tspan>\n",
       "    <tspan class=\"displacy-tag\" dy=\"2em\" fill=\"currentColor\" x=\"5475\">NOUN</tspan>\n",
       "</text>\n",
       "\n",
       "<text class=\"displacy-token\" fill=\"currentColor\" text-anchor=\"middle\" y=\"922.0\">\n",
       "    <tspan class=\"displacy-word\" fill=\"currentColor\" x=\"5650\">книги,</tspan>\n",
       "    <tspan class=\"displacy-tag\" dy=\"2em\" fill=\"currentColor\" x=\"5650\">NOUN</tspan>\n",
       "</text>\n",
       "\n",
       "<text class=\"displacy-token\" fill=\"currentColor\" text-anchor=\"middle\" y=\"922.0\">\n",
       "    <tspan class=\"displacy-word\" fill=\"currentColor\" x=\"5825\">комиксы,</tspan>\n",
       "    <tspan class=\"displacy-tag\" dy=\"2em\" fill=\"currentColor\" x=\"5825\">NOUN</tspan>\n",
       "</text>\n",
       "\n",
       "<text class=\"displacy-token\" fill=\"currentColor\" text-anchor=\"middle\" y=\"922.0\">\n",
       "    <tspan class=\"displacy-word\" fill=\"currentColor\" x=\"6000\">видеоигры,</tspan>\n",
       "    <tspan class=\"displacy-tag\" dy=\"2em\" fill=\"currentColor\" x=\"6000\">NOUN</tspan>\n",
       "</text>\n",
       "\n",
       "<text class=\"displacy-token\" fill=\"currentColor\" text-anchor=\"middle\" y=\"922.0\">\n",
       "    <tspan class=\"displacy-word\" fill=\"currentColor\" x=\"6175\">игрушки</tspan>\n",
       "    <tspan class=\"displacy-tag\" dy=\"2em\" fill=\"currentColor\" x=\"6175\">NOUN</tspan>\n",
       "</text>\n",
       "\n",
       "<text class=\"displacy-token\" fill=\"currentColor\" text-anchor=\"middle\" y=\"922.0\">\n",
       "    <tspan class=\"displacy-word\" fill=\"currentColor\" x=\"6350\">и</tspan>\n",
       "    <tspan class=\"displacy-tag\" dy=\"2em\" fill=\"currentColor\" x=\"6350\">CCONJ</tspan>\n",
       "</text>\n",
       "\n",
       "<text class=\"displacy-token\" fill=\"currentColor\" text-anchor=\"middle\" y=\"922.0\">\n",
       "    <tspan class=\"displacy-word\" fill=\"currentColor\" x=\"6525\">прочие</tspan>\n",
       "    <tspan class=\"displacy-tag\" dy=\"2em\" fill=\"currentColor\" x=\"6525\">ADJ</tspan>\n",
       "</text>\n",
       "\n",
       "<text class=\"displacy-token\" fill=\"currentColor\" text-anchor=\"middle\" y=\"922.0\">\n",
       "    <tspan class=\"displacy-word\" fill=\"currentColor\" x=\"6700\">произведения,</tspan>\n",
       "    <tspan class=\"displacy-tag\" dy=\"2em\" fill=\"currentColor\" x=\"6700\">NOUN</tspan>\n",
       "</text>\n",
       "\n",
       "<text class=\"displacy-token\" fill=\"currentColor\" text-anchor=\"middle\" y=\"922.0\">\n",
       "    <tspan class=\"displacy-word\" fill=\"currentColor\" x=\"6875\">созданные</tspan>\n",
       "    <tspan class=\"displacy-tag\" dy=\"2em\" fill=\"currentColor\" x=\"6875\">VERB</tspan>\n",
       "</text>\n",
       "\n",
       "<text class=\"displacy-token\" fill=\"currentColor\" text-anchor=\"middle\" y=\"922.0\">\n",
       "    <tspan class=\"displacy-word\" fill=\"currentColor\" x=\"7050\">в</tspan>\n",
       "    <tspan class=\"displacy-tag\" dy=\"2em\" fill=\"currentColor\" x=\"7050\">ADP</tspan>\n",
       "</text>\n",
       "\n",
       "<text class=\"displacy-token\" fill=\"currentColor\" text-anchor=\"middle\" y=\"922.0\">\n",
       "    <tspan class=\"displacy-word\" fill=\"currentColor\" x=\"7225\">рамках</tspan>\n",
       "    <tspan class=\"displacy-tag\" dy=\"2em\" fill=\"currentColor\" x=\"7225\">NOUN</tspan>\n",
       "</text>\n",
       "\n",
       "<text class=\"displacy-token\" fill=\"currentColor\" text-anchor=\"middle\" y=\"922.0\">\n",
       "    <tspan class=\"displacy-word\" fill=\"currentColor\" x=\"7400\">единой</tspan>\n",
       "    <tspan class=\"displacy-tag\" dy=\"2em\" fill=\"currentColor\" x=\"7400\">ADJ</tspan>\n",
       "</text>\n",
       "\n",
       "<text class=\"displacy-token\" fill=\"currentColor\" text-anchor=\"middle\" y=\"922.0\">\n",
       "    <tspan class=\"displacy-word\" fill=\"currentColor\" x=\"7575\">фантастической</tspan>\n",
       "    <tspan class=\"displacy-tag\" dy=\"2em\" fill=\"currentColor\" x=\"7575\">ADJ</tspan>\n",
       "</text>\n",
       "\n",
       "<text class=\"displacy-token\" fill=\"currentColor\" text-anchor=\"middle\" y=\"922.0\">\n",
       "    <tspan class=\"displacy-word\" fill=\"currentColor\" x=\"7750\">вселенной «</tspan>\n",
       "    <tspan class=\"displacy-tag\" dy=\"2em\" fill=\"currentColor\" x=\"7750\">NOUN</tspan>\n",
       "</text>\n",
       "\n",
       "<text class=\"displacy-token\" fill=\"currentColor\" text-anchor=\"middle\" y=\"922.0\">\n",
       "    <tspan class=\"displacy-word\" fill=\"currentColor\" x=\"7925\">Звёздных</tspan>\n",
       "    <tspan class=\"displacy-tag\" dy=\"2em\" fill=\"currentColor\" x=\"7925\">ADJ</tspan>\n",
       "</text>\n",
       "\n",
       "<text class=\"displacy-token\" fill=\"currentColor\" text-anchor=\"middle\" y=\"922.0\">\n",
       "    <tspan class=\"displacy-word\" fill=\"currentColor\" x=\"8100\">войн»,</tspan>\n",
       "    <tspan class=\"displacy-tag\" dy=\"2em\" fill=\"currentColor\" x=\"8100\">NOUN</tspan>\n",
       "</text>\n",
       "\n",
       "<text class=\"displacy-token\" fill=\"currentColor\" text-anchor=\"middle\" y=\"922.0\">\n",
       "    <tspan class=\"displacy-word\" fill=\"currentColor\" x=\"8275\">задуманной</tspan>\n",
       "    <tspan class=\"displacy-tag\" dy=\"2em\" fill=\"currentColor\" x=\"8275\">ADJ</tspan>\n",
       "</text>\n",
       "\n",
       "<text class=\"displacy-token\" fill=\"currentColor\" text-anchor=\"middle\" y=\"922.0\">\n",
       "    <tspan class=\"displacy-word\" fill=\"currentColor\" x=\"8450\">и</tspan>\n",
       "    <tspan class=\"displacy-tag\" dy=\"2em\" fill=\"currentColor\" x=\"8450\">CCONJ</tspan>\n",
       "</text>\n",
       "\n",
       "<text class=\"displacy-token\" fill=\"currentColor\" text-anchor=\"middle\" y=\"922.0\">\n",
       "    <tspan class=\"displacy-word\" fill=\"currentColor\" x=\"8625\">реализованной</tspan>\n",
       "    <tspan class=\"displacy-tag\" dy=\"2em\" fill=\"currentColor\" x=\"8625\">VERB</tspan>\n",
       "</text>\n",
       "\n",
       "<text class=\"displacy-token\" fill=\"currentColor\" text-anchor=\"middle\" y=\"922.0\">\n",
       "    <tspan class=\"displacy-word\" fill=\"currentColor\" x=\"8800\">американским</tspan>\n",
       "    <tspan class=\"displacy-tag\" dy=\"2em\" fill=\"currentColor\" x=\"8800\">ADJ</tspan>\n",
       "</text>\n",
       "\n",
       "<text class=\"displacy-token\" fill=\"currentColor\" text-anchor=\"middle\" y=\"922.0\">\n",
       "    <tspan class=\"displacy-word\" fill=\"currentColor\" x=\"8975\">режиссёром</tspan>\n",
       "    <tspan class=\"displacy-tag\" dy=\"2em\" fill=\"currentColor\" x=\"8975\">NOUN</tspan>\n",
       "</text>\n",
       "\n",
       "<text class=\"displacy-token\" fill=\"currentColor\" text-anchor=\"middle\" y=\"922.0\">\n",
       "    <tspan class=\"displacy-word\" fill=\"currentColor\" x=\"9150\">Джорджем</tspan>\n",
       "    <tspan class=\"displacy-tag\" dy=\"2em\" fill=\"currentColor\" x=\"9150\">PROPN</tspan>\n",
       "</text>\n",
       "\n",
       "<text class=\"displacy-token\" fill=\"currentColor\" text-anchor=\"middle\" y=\"922.0\">\n",
       "    <tspan class=\"displacy-word\" fill=\"currentColor\" x=\"9325\">Лукасом</tspan>\n",
       "    <tspan class=\"displacy-tag\" dy=\"2em\" fill=\"currentColor\" x=\"9325\">PROPN</tspan>\n",
       "</text>\n",
       "\n",
       "<text class=\"displacy-token\" fill=\"currentColor\" text-anchor=\"middle\" y=\"922.0\">\n",
       "    <tspan class=\"displacy-word\" fill=\"currentColor\" x=\"9500\">в</tspan>\n",
       "    <tspan class=\"displacy-tag\" dy=\"2em\" fill=\"currentColor\" x=\"9500\">ADP</tspan>\n",
       "</text>\n",
       "\n",
       "<text class=\"displacy-token\" fill=\"currentColor\" text-anchor=\"middle\" y=\"922.0\">\n",
       "    <tspan class=\"displacy-word\" fill=\"currentColor\" x=\"9675\">конце</tspan>\n",
       "    <tspan class=\"displacy-tag\" dy=\"2em\" fill=\"currentColor\" x=\"9675\">NOUN</tspan>\n",
       "</text>\n",
       "\n",
       "<text class=\"displacy-token\" fill=\"currentColor\" text-anchor=\"middle\" y=\"922.0\">\n",
       "    <tspan class=\"displacy-word\" fill=\"currentColor\" x=\"9850\">1970-х</tspan>\n",
       "    <tspan class=\"displacy-tag\" dy=\"2em\" fill=\"currentColor\" x=\"9850\">ADJ</tspan>\n",
       "</text>\n",
       "\n",
       "<text class=\"displacy-token\" fill=\"currentColor\" text-anchor=\"middle\" y=\"922.0\">\n",
       "    <tspan class=\"displacy-word\" fill=\"currentColor\" x=\"10025\">годов</tspan>\n",
       "    <tspan class=\"displacy-tag\" dy=\"2em\" fill=\"currentColor\" x=\"10025\">NOUN</tspan>\n",
       "</text>\n",
       "\n",
       "<text class=\"displacy-token\" fill=\"currentColor\" text-anchor=\"middle\" y=\"922.0\">\n",
       "    <tspan class=\"displacy-word\" fill=\"currentColor\" x=\"10200\">и</tspan>\n",
       "    <tspan class=\"displacy-tag\" dy=\"2em\" fill=\"currentColor\" x=\"10200\">CCONJ</tspan>\n",
       "</text>\n",
       "\n",
       "<text class=\"displacy-token\" fill=\"currentColor\" text-anchor=\"middle\" y=\"922.0\">\n",
       "    <tspan class=\"displacy-word\" fill=\"currentColor\" x=\"10375\">позднее</tspan>\n",
       "    <tspan class=\"displacy-tag\" dy=\"2em\" fill=\"currentColor\" x=\"10375\">ADV</tspan>\n",
       "</text>\n",
       "\n",
       "<text class=\"displacy-token\" fill=\"currentColor\" text-anchor=\"middle\" y=\"922.0\">\n",
       "    <tspan class=\"displacy-word\" fill=\"currentColor\" x=\"10550\">расширенной.</tspan>\n",
       "    <tspan class=\"displacy-tag\" dy=\"2em\" fill=\"currentColor\" x=\"10550\">VERB</tspan>\n",
       "</text>\n",
       "\n",
       "<g class=\"displacy-arrow\">\n",
       "    <path class=\"displacy-arc\" id=\"arrow-e02d49651bb241faba356780a729fad2-0-0\" stroke-width=\"2px\" d=\"M70,877.0 C70,789.5 180.0,789.5 180.0,877.0\" fill=\"none\" stroke=\"currentColor\"/>\n",
       "    <text dy=\"1.25em\" style=\"font-size: 0.8em; letter-spacing: 1px\">\n",
       "        <textPath xlink:href=\"#arrow-e02d49651bb241faba356780a729fad2-0-0\" class=\"displacy-label\" startOffset=\"50%\" side=\"left\" fill=\"currentColor\" text-anchor=\"middle\">amod</textPath>\n",
       "    </text>\n",
       "    <path class=\"displacy-arrowhead\" d=\"M70,879.0 L62,867.0 78,867.0\" fill=\"currentColor\"/>\n",
       "</g>\n",
       "\n",
       "<g class=\"displacy-arrow\">\n",
       "    <path class=\"displacy-arc\" id=\"arrow-e02d49651bb241faba356780a729fad2-0-1\" stroke-width=\"2px\" d=\"M245,877.0 C245,439.5 1075.0,439.5 1075.0,877.0\" fill=\"none\" stroke=\"currentColor\"/>\n",
       "    <text dy=\"1.25em\" style=\"font-size: 0.8em; letter-spacing: 1px\">\n",
       "        <textPath xlink:href=\"#arrow-e02d49651bb241faba356780a729fad2-0-1\" class=\"displacy-label\" startOffset=\"50%\" side=\"left\" fill=\"currentColor\" text-anchor=\"middle\">nsubj</textPath>\n",
       "    </text>\n",
       "    <path class=\"displacy-arrowhead\" d=\"M245,879.0 L237,867.0 253,867.0\" fill=\"currentColor\"/>\n",
       "</g>\n",
       "\n",
       "<g class=\"displacy-arrow\">\n",
       "    <path class=\"displacy-arc\" id=\"arrow-e02d49651bb241faba356780a729fad2-0-2\" stroke-width=\"2px\" d=\"M420,877.0 C420,527.0 1070.0,527.0 1070.0,877.0\" fill=\"none\" stroke=\"currentColor\"/>\n",
       "    <text dy=\"1.25em\" style=\"font-size: 0.8em; letter-spacing: 1px\">\n",
       "        <textPath xlink:href=\"#arrow-e02d49651bb241faba356780a729fad2-0-2\" class=\"displacy-label\" startOffset=\"50%\" side=\"left\" fill=\"currentColor\" text-anchor=\"middle\">nsubj</textPath>\n",
       "    </text>\n",
       "    <path class=\"displacy-arrowhead\" d=\"M420,879.0 L412,867.0 428,867.0\" fill=\"currentColor\"/>\n",
       "</g>\n",
       "\n",
       "<g class=\"displacy-arrow\">\n",
       "    <path class=\"displacy-arc\" id=\"arrow-e02d49651bb241faba356780a729fad2-0-3\" stroke-width=\"2px\" d=\"M595,877.0 C595,789.5 705.0,789.5 705.0,877.0\" fill=\"none\" stroke=\"currentColor\"/>\n",
       "    <text dy=\"1.25em\" style=\"font-size: 0.8em; letter-spacing: 1px\">\n",
       "        <textPath xlink:href=\"#arrow-e02d49651bb241faba356780a729fad2-0-3\" class=\"displacy-label\" startOffset=\"50%\" side=\"left\" fill=\"currentColor\" text-anchor=\"middle\">case</textPath>\n",
       "    </text>\n",
       "    <path class=\"displacy-arrowhead\" d=\"M595,879.0 L587,867.0 603,867.0\" fill=\"currentColor\"/>\n",
       "</g>\n",
       "\n",
       "<g class=\"displacy-arrow\">\n",
       "    <path class=\"displacy-arc\" id=\"arrow-e02d49651bb241faba356780a729fad2-0-4\" stroke-width=\"2px\" d=\"M420,877.0 C420,702.0 710.0,702.0 710.0,877.0\" fill=\"none\" stroke=\"currentColor\"/>\n",
       "    <text dy=\"1.25em\" style=\"font-size: 0.8em; letter-spacing: 1px\">\n",
       "        <textPath xlink:href=\"#arrow-e02d49651bb241faba356780a729fad2-0-4\" class=\"displacy-label\" startOffset=\"50%\" side=\"left\" fill=\"currentColor\" text-anchor=\"middle\">nmod</textPath>\n",
       "    </text>\n",
       "    <path class=\"displacy-arrowhead\" d=\"M710.0,879.0 L718.0,867.0 702.0,867.0\" fill=\"currentColor\"/>\n",
       "</g>\n",
       "\n",
       "<g class=\"displacy-arrow\">\n",
       "    <path class=\"displacy-arc\" id=\"arrow-e02d49651bb241faba356780a729fad2-0-5\" stroke-width=\"2px\" d=\"M945,877.0 C945,789.5 1055.0,789.5 1055.0,877.0\" fill=\"none\" stroke=\"currentColor\"/>\n",
       "    <text dy=\"1.25em\" style=\"font-size: 0.8em; letter-spacing: 1px\">\n",
       "        <textPath xlink:href=\"#arrow-e02d49651bb241faba356780a729fad2-0-5\" class=\"displacy-label\" startOffset=\"50%\" side=\"left\" fill=\"currentColor\" text-anchor=\"middle\">amod</textPath>\n",
       "    </text>\n",
       "    <path class=\"displacy-arrowhead\" d=\"M945,879.0 L937,867.0 953,867.0\" fill=\"currentColor\"/>\n",
       "</g>\n",
       "\n",
       "<g class=\"displacy-arrow\">\n",
       "    <path class=\"displacy-arc\" id=\"arrow-e02d49651bb241faba356780a729fad2-0-6\" stroke-width=\"2px\" d=\"M1120,877.0 C1120,789.5 1230.0,789.5 1230.0,877.0\" fill=\"none\" stroke=\"currentColor\"/>\n",
       "    <text dy=\"1.25em\" style=\"font-size: 0.8em; letter-spacing: 1px\">\n",
       "        <textPath xlink:href=\"#arrow-e02d49651bb241faba356780a729fad2-0-6\" class=\"displacy-label\" startOffset=\"50%\" side=\"left\" fill=\"currentColor\" text-anchor=\"middle\">acl</textPath>\n",
       "    </text>\n",
       "    <path class=\"displacy-arrowhead\" d=\"M1230.0,879.0 L1238.0,867.0 1222.0,867.0\" fill=\"currentColor\"/>\n",
       "</g>\n",
       "\n",
       "<g class=\"displacy-arrow\">\n",
       "    <path class=\"displacy-arc\" id=\"arrow-e02d49651bb241faba356780a729fad2-0-7\" stroke-width=\"2px\" d=\"M1470,877.0 C1470,789.5 1580.0,789.5 1580.0,877.0\" fill=\"none\" stroke=\"currentColor\"/>\n",
       "    <text dy=\"1.25em\" style=\"font-size: 0.8em; letter-spacing: 1px\">\n",
       "        <textPath xlink:href=\"#arrow-e02d49651bb241faba356780a729fad2-0-7\" class=\"displacy-label\" startOffset=\"50%\" side=\"left\" fill=\"currentColor\" text-anchor=\"middle\">case</textPath>\n",
       "    </text>\n",
       "    <path class=\"displacy-arrowhead\" d=\"M1470,879.0 L1462,867.0 1478,867.0\" fill=\"currentColor\"/>\n",
       "</g>\n",
       "\n",
       "<g class=\"displacy-arrow\">\n",
       "    <path class=\"displacy-arc\" id=\"arrow-e02d49651bb241faba356780a729fad2-0-8\" stroke-width=\"2px\" d=\"M1295,877.0 C1295,702.0 1585.0,702.0 1585.0,877.0\" fill=\"none\" stroke=\"currentColor\"/>\n",
       "    <text dy=\"1.25em\" style=\"font-size: 0.8em; letter-spacing: 1px\">\n",
       "        <textPath xlink:href=\"#arrow-e02d49651bb241faba356780a729fad2-0-8\" class=\"displacy-label\" startOffset=\"50%\" side=\"left\" fill=\"currentColor\" text-anchor=\"middle\">obl</textPath>\n",
       "    </text>\n",
       "    <path class=\"displacy-arrowhead\" d=\"M1585.0,879.0 L1593.0,867.0 1577.0,867.0\" fill=\"currentColor\"/>\n",
       "</g>\n",
       "\n",
       "<g class=\"displacy-arrow\">\n",
       "    <path class=\"displacy-arc\" id=\"arrow-e02d49651bb241faba356780a729fad2-0-9\" stroke-width=\"2px\" d=\"M1820,877.0 C1820,702.0 2110.0,702.0 2110.0,877.0\" fill=\"none\" stroke=\"currentColor\"/>\n",
       "    <text dy=\"1.25em\" style=\"font-size: 0.8em; letter-spacing: 1px\">\n",
       "        <textPath xlink:href=\"#arrow-e02d49651bb241faba356780a729fad2-0-9\" class=\"displacy-label\" startOffset=\"50%\" side=\"left\" fill=\"currentColor\" text-anchor=\"middle\">nummod:gov</textPath>\n",
       "    </text>\n",
       "    <path class=\"displacy-arrowhead\" d=\"M1820,879.0 L1812,867.0 1828,867.0\" fill=\"currentColor\"/>\n",
       "</g>\n",
       "\n",
       "<g class=\"displacy-arrow\">\n",
       "    <path class=\"displacy-arc\" id=\"arrow-e02d49651bb241faba356780a729fad2-0-10\" stroke-width=\"2px\" d=\"M1995,877.0 C1995,789.5 2105.0,789.5 2105.0,877.0\" fill=\"none\" stroke=\"currentColor\"/>\n",
       "    <text dy=\"1.25em\" style=\"font-size: 0.8em; letter-spacing: 1px\">\n",
       "        <textPath xlink:href=\"#arrow-e02d49651bb241faba356780a729fad2-0-10\" class=\"displacy-label\" startOffset=\"50%\" side=\"left\" fill=\"currentColor\" text-anchor=\"middle\">amod</textPath>\n",
       "    </text>\n",
       "    <path class=\"displacy-arrowhead\" d=\"M1995,879.0 L1987,867.0 2003,867.0\" fill=\"currentColor\"/>\n",
       "</g>\n",
       "\n",
       "<g class=\"displacy-arrow\">\n",
       "    <path class=\"displacy-arc\" id=\"arrow-e02d49651bb241faba356780a729fad2-0-11\" stroke-width=\"2px\" d=\"M1295,877.0 C1295,439.5 2125.0,439.5 2125.0,877.0\" fill=\"none\" stroke=\"currentColor\"/>\n",
       "    <text dy=\"1.25em\" style=\"font-size: 0.8em; letter-spacing: 1px\">\n",
       "        <textPath xlink:href=\"#arrow-e02d49651bb241faba356780a729fad2-0-11\" class=\"displacy-label\" startOffset=\"50%\" side=\"left\" fill=\"currentColor\" text-anchor=\"middle\">obj</textPath>\n",
       "    </text>\n",
       "    <path class=\"displacy-arrowhead\" d=\"M2125.0,879.0 L2133.0,867.0 2117.0,867.0\" fill=\"currentColor\"/>\n",
       "</g>\n",
       "\n",
       "<g class=\"displacy-arrow\">\n",
       "    <path class=\"displacy-arc\" id=\"arrow-e02d49651bb241faba356780a729fad2-0-12\" stroke-width=\"2px\" d=\"M2345,877.0 C2345,789.5 2455.0,789.5 2455.0,877.0\" fill=\"none\" stroke=\"currentColor\"/>\n",
       "    <text dy=\"1.25em\" style=\"font-size: 0.8em; letter-spacing: 1px\">\n",
       "        <textPath xlink:href=\"#arrow-e02d49651bb241faba356780a729fad2-0-12\" class=\"displacy-label\" startOffset=\"50%\" side=\"left\" fill=\"currentColor\" text-anchor=\"middle\">nummod</textPath>\n",
       "    </text>\n",
       "    <path class=\"displacy-arrowhead\" d=\"M2345,879.0 L2337,867.0 2353,867.0\" fill=\"currentColor\"/>\n",
       "</g>\n",
       "\n",
       "<g class=\"displacy-arrow\">\n",
       "    <path class=\"displacy-arc\" id=\"arrow-e02d49651bb241faba356780a729fad2-0-13\" stroke-width=\"2px\" d=\"M2170,877.0 C2170,702.0 2460.0,702.0 2460.0,877.0\" fill=\"none\" stroke=\"currentColor\"/>\n",
       "    <text dy=\"1.25em\" style=\"font-size: 0.8em; letter-spacing: 1px\">\n",
       "        <textPath xlink:href=\"#arrow-e02d49651bb241faba356780a729fad2-0-13\" class=\"displacy-label\" startOffset=\"50%\" side=\"left\" fill=\"currentColor\" text-anchor=\"middle\">parataxis</textPath>\n",
       "    </text>\n",
       "    <path class=\"displacy-arrowhead\" d=\"M2460.0,879.0 L2468.0,867.0 2452.0,867.0\" fill=\"currentColor\"/>\n",
       "</g>\n",
       "\n",
       "<g class=\"displacy-arrow\">\n",
       "    <path class=\"displacy-arc\" id=\"arrow-e02d49651bb241faba356780a729fad2-0-14\" stroke-width=\"2px\" d=\"M2695,877.0 C2695,789.5 2805.0,789.5 2805.0,877.0\" fill=\"none\" stroke=\"currentColor\"/>\n",
       "    <text dy=\"1.25em\" style=\"font-size: 0.8em; letter-spacing: 1px\">\n",
       "        <textPath xlink:href=\"#arrow-e02d49651bb241faba356780a729fad2-0-14\" class=\"displacy-label\" startOffset=\"50%\" side=\"left\" fill=\"currentColor\" text-anchor=\"middle\">amod</textPath>\n",
       "    </text>\n",
       "    <path class=\"displacy-arrowhead\" d=\"M2695,879.0 L2687,867.0 2703,867.0\" fill=\"currentColor\"/>\n",
       "</g>\n",
       "\n",
       "<g class=\"displacy-arrow\">\n",
       "    <path class=\"displacy-arc\" id=\"arrow-e02d49651bb241faba356780a729fad2-0-15\" stroke-width=\"2px\" d=\"M2520,877.0 C2520,702.0 2810.0,702.0 2810.0,877.0\" fill=\"none\" stroke=\"currentColor\"/>\n",
       "    <text dy=\"1.25em\" style=\"font-size: 0.8em; letter-spacing: 1px\">\n",
       "        <textPath xlink:href=\"#arrow-e02d49651bb241faba356780a729fad2-0-15\" class=\"displacy-label\" startOffset=\"50%\" side=\"left\" fill=\"currentColor\" text-anchor=\"middle\">nmod</textPath>\n",
       "    </text>\n",
       "    <path class=\"displacy-arrowhead\" d=\"M2810.0,879.0 L2818.0,867.0 2802.0,867.0\" fill=\"currentColor\"/>\n",
       "</g>\n",
       "\n",
       "<g class=\"displacy-arrow\">\n",
       "    <path class=\"displacy-arc\" id=\"arrow-e02d49651bb241faba356780a729fad2-0-16\" stroke-width=\"2px\" d=\"M3045,877.0 C3045,789.5 3155.0,789.5 3155.0,877.0\" fill=\"none\" stroke=\"currentColor\"/>\n",
       "    <text dy=\"1.25em\" style=\"font-size: 0.8em; letter-spacing: 1px\">\n",
       "        <textPath xlink:href=\"#arrow-e02d49651bb241faba356780a729fad2-0-16\" class=\"displacy-label\" startOffset=\"50%\" side=\"left\" fill=\"currentColor\" text-anchor=\"middle\">advmod</textPath>\n",
       "    </text>\n",
       "    <path class=\"displacy-arrowhead\" d=\"M3045,879.0 L3037,867.0 3053,867.0\" fill=\"currentColor\"/>\n",
       "</g>\n",
       "\n",
       "<g class=\"displacy-arrow\">\n",
       "    <path class=\"displacy-arc\" id=\"arrow-e02d49651bb241faba356780a729fad2-0-17\" stroke-width=\"2px\" d=\"M1120,877.0 C1120,177.0 3190.0,177.0 3190.0,877.0\" fill=\"none\" stroke=\"currentColor\"/>\n",
       "    <text dy=\"1.25em\" style=\"font-size: 0.8em; letter-spacing: 1px\">\n",
       "        <textPath xlink:href=\"#arrow-e02d49651bb241faba356780a729fad2-0-17\" class=\"displacy-label\" startOffset=\"50%\" side=\"left\" fill=\"currentColor\" text-anchor=\"middle\">conj</textPath>\n",
       "    </text>\n",
       "    <path class=\"displacy-arrowhead\" d=\"M3190.0,879.0 L3198.0,867.0 3182.0,867.0\" fill=\"currentColor\"/>\n",
       "</g>\n",
       "\n",
       "<g class=\"displacy-arrow\">\n",
       "    <path class=\"displacy-arc\" id=\"arrow-e02d49651bb241faba356780a729fad2-0-18\" stroke-width=\"2px\" d=\"M3395,877.0 C3395,789.5 3505.0,789.5 3505.0,877.0\" fill=\"none\" stroke=\"currentColor\"/>\n",
       "    <text dy=\"1.25em\" style=\"font-size: 0.8em; letter-spacing: 1px\">\n",
       "        <textPath xlink:href=\"#arrow-e02d49651bb241faba356780a729fad2-0-18\" class=\"displacy-label\" startOffset=\"50%\" side=\"left\" fill=\"currentColor\" text-anchor=\"middle\">case</textPath>\n",
       "    </text>\n",
       "    <path class=\"displacy-arrowhead\" d=\"M3395,879.0 L3387,867.0 3403,867.0\" fill=\"currentColor\"/>\n",
       "</g>\n",
       "\n",
       "<g class=\"displacy-arrow\">\n",
       "    <path class=\"displacy-arc\" id=\"arrow-e02d49651bb241faba356780a729fad2-0-19\" stroke-width=\"2px\" d=\"M3220,877.0 C3220,702.0 3510.0,702.0 3510.0,877.0\" fill=\"none\" stroke=\"currentColor\"/>\n",
       "    <text dy=\"1.25em\" style=\"font-size: 0.8em; letter-spacing: 1px\">\n",
       "        <textPath xlink:href=\"#arrow-e02d49651bb241faba356780a729fad2-0-19\" class=\"displacy-label\" startOffset=\"50%\" side=\"left\" fill=\"currentColor\" text-anchor=\"middle\">obl</textPath>\n",
       "    </text>\n",
       "    <path class=\"displacy-arrowhead\" d=\"M3510.0,879.0 L3518.0,867.0 3502.0,867.0\" fill=\"currentColor\"/>\n",
       "</g>\n",
       "\n",
       "<g class=\"displacy-arrow\">\n",
       "    <path class=\"displacy-arc\" id=\"arrow-e02d49651bb241faba356780a729fad2-0-20\" stroke-width=\"2px\" d=\"M3570,877.0 C3570,789.5 3680.0,789.5 3680.0,877.0\" fill=\"none\" stroke=\"currentColor\"/>\n",
       "    <text dy=\"1.25em\" style=\"font-size: 0.8em; letter-spacing: 1px\">\n",
       "        <textPath xlink:href=\"#arrow-e02d49651bb241faba356780a729fad2-0-20\" class=\"displacy-label\" startOffset=\"50%\" side=\"left\" fill=\"currentColor\" text-anchor=\"middle\">appos</textPath>\n",
       "    </text>\n",
       "    <path class=\"displacy-arrowhead\" d=\"M3680.0,879.0 L3688.0,867.0 3672.0,867.0\" fill=\"currentColor\"/>\n",
       "</g>\n",
       "\n",
       "<g class=\"displacy-arrow\">\n",
       "    <path class=\"displacy-arc\" id=\"arrow-e02d49651bb241faba356780a729fad2-0-21\" stroke-width=\"2px\" d=\"M3920,877.0 C3920,702.0 4210.0,702.0 4210.0,877.0\" fill=\"none\" stroke=\"currentColor\"/>\n",
       "    <text dy=\"1.25em\" style=\"font-size: 0.8em; letter-spacing: 1px\">\n",
       "        <textPath xlink:href=\"#arrow-e02d49651bb241faba356780a729fad2-0-21\" class=\"displacy-label\" startOffset=\"50%\" side=\"left\" fill=\"currentColor\" text-anchor=\"middle\">cc</textPath>\n",
       "    </text>\n",
       "    <path class=\"displacy-arrowhead\" d=\"M3920,879.0 L3912,867.0 3928,867.0\" fill=\"currentColor\"/>\n",
       "</g>\n",
       "\n",
       "<g class=\"displacy-arrow\">\n",
       "    <path class=\"displacy-arc\" id=\"arrow-e02d49651bb241faba356780a729fad2-0-22\" stroke-width=\"2px\" d=\"M4095,877.0 C4095,789.5 4205.0,789.5 4205.0,877.0\" fill=\"none\" stroke=\"currentColor\"/>\n",
       "    <text dy=\"1.25em\" style=\"font-size: 0.8em; letter-spacing: 1px\">\n",
       "        <textPath xlink:href=\"#arrow-e02d49651bb241faba356780a729fad2-0-22\" class=\"displacy-label\" startOffset=\"50%\" side=\"left\" fill=\"currentColor\" text-anchor=\"middle\">nummod:gov</textPath>\n",
       "    </text>\n",
       "    <path class=\"displacy-arrowhead\" d=\"M4095,879.0 L4087,867.0 4103,867.0\" fill=\"currentColor\"/>\n",
       "</g>\n",
       "\n",
       "<g class=\"displacy-arrow\">\n",
       "    <path class=\"displacy-arc\" id=\"arrow-e02d49651bb241faba356780a729fad2-0-23\" stroke-width=\"2px\" d=\"M3570,877.0 C3570,527.0 4220.0,527.0 4220.0,877.0\" fill=\"none\" stroke=\"currentColor\"/>\n",
       "    <text dy=\"1.25em\" style=\"font-size: 0.8em; letter-spacing: 1px\">\n",
       "        <textPath xlink:href=\"#arrow-e02d49651bb241faba356780a729fad2-0-23\" class=\"displacy-label\" startOffset=\"50%\" side=\"left\" fill=\"currentColor\" text-anchor=\"middle\">conj</textPath>\n",
       "    </text>\n",
       "    <path class=\"displacy-arrowhead\" d=\"M4220.0,879.0 L4228.0,867.0 4212.0,867.0\" fill=\"currentColor\"/>\n",
       "</g>\n",
       "\n",
       "<g class=\"displacy-arrow\">\n",
       "    <path class=\"displacy-arc\" id=\"arrow-e02d49651bb241faba356780a729fad2-0-24\" stroke-width=\"2px\" d=\"M4270,877.0 C4270,789.5 4380.0,789.5 4380.0,877.0\" fill=\"none\" stroke=\"currentColor\"/>\n",
       "    <text dy=\"1.25em\" style=\"font-size: 0.8em; letter-spacing: 1px\">\n",
       "        <textPath xlink:href=\"#arrow-e02d49651bb241faba356780a729fad2-0-24\" class=\"displacy-label\" startOffset=\"50%\" side=\"left\" fill=\"currentColor\" text-anchor=\"middle\">nmod</textPath>\n",
       "    </text>\n",
       "    <path class=\"displacy-arrowhead\" d=\"M4380.0,879.0 L4388.0,867.0 4372.0,867.0\" fill=\"currentColor\"/>\n",
       "</g>\n",
       "\n",
       "<g class=\"displacy-arrow\">\n",
       "    <path class=\"displacy-arc\" id=\"arrow-e02d49651bb241faba356780a729fad2-0-25\" stroke-width=\"2px\" d=\"M4620,877.0 C4620,614.5 5090.0,614.5 5090.0,877.0\" fill=\"none\" stroke=\"currentColor\"/>\n",
       "    <text dy=\"1.25em\" style=\"font-size: 0.8em; letter-spacing: 1px\">\n",
       "        <textPath xlink:href=\"#arrow-e02d49651bb241faba356780a729fad2-0-25\" class=\"displacy-label\" startOffset=\"50%\" side=\"left\" fill=\"currentColor\" text-anchor=\"middle\">cc</textPath>\n",
       "    </text>\n",
       "    <path class=\"displacy-arrowhead\" d=\"M4620,879.0 L4612,867.0 4628,867.0\" fill=\"currentColor\"/>\n",
       "</g>\n",
       "\n",
       "<g class=\"displacy-arrow\">\n",
       "    <path class=\"displacy-arc\" id=\"arrow-e02d49651bb241faba356780a729fad2-0-26\" stroke-width=\"2px\" d=\"M4620,877.0 C4620,789.5 4730.0,789.5 4730.0,877.0\" fill=\"none\" stroke=\"currentColor\"/>\n",
       "    <text dy=\"1.25em\" style=\"font-size: 0.8em; letter-spacing: 1px\">\n",
       "        <textPath xlink:href=\"#arrow-e02d49651bb241faba356780a729fad2-0-26\" class=\"displacy-label\" startOffset=\"50%\" side=\"left\" fill=\"currentColor\" text-anchor=\"middle\">fixed</textPath>\n",
       "    </text>\n",
       "    <path class=\"displacy-arrowhead\" d=\"M4730.0,879.0 L4738.0,867.0 4722.0,867.0\" fill=\"currentColor\"/>\n",
       "</g>\n",
       "\n",
       "<g class=\"displacy-arrow\">\n",
       "    <path class=\"displacy-arc\" id=\"arrow-e02d49651bb241faba356780a729fad2-0-27\" stroke-width=\"2px\" d=\"M4970,877.0 C4970,789.5 5080.0,789.5 5080.0,877.0\" fill=\"none\" stroke=\"currentColor\"/>\n",
       "    <text dy=\"1.25em\" style=\"font-size: 0.8em; letter-spacing: 1px\">\n",
       "        <textPath xlink:href=\"#arrow-e02d49651bb241faba356780a729fad2-0-27\" class=\"displacy-label\" startOffset=\"50%\" side=\"left\" fill=\"currentColor\" text-anchor=\"middle\">amod</textPath>\n",
       "    </text>\n",
       "    <path class=\"displacy-arrowhead\" d=\"M4970,879.0 L4962,867.0 4978,867.0\" fill=\"currentColor\"/>\n",
       "</g>\n",
       "\n",
       "<g class=\"displacy-arrow\">\n",
       "    <path class=\"displacy-arc\" id=\"arrow-e02d49651bb241faba356780a729fad2-0-28\" stroke-width=\"2px\" d=\"M1120,877.0 C1120,2.0 5125.0,2.0 5125.0,877.0\" fill=\"none\" stroke=\"currentColor\"/>\n",
       "    <text dy=\"1.25em\" style=\"font-size: 0.8em; letter-spacing: 1px\">\n",
       "        <textPath xlink:href=\"#arrow-e02d49651bb241faba356780a729fad2-0-28\" class=\"displacy-label\" startOffset=\"50%\" side=\"left\" fill=\"currentColor\" text-anchor=\"middle\">conj</textPath>\n",
       "    </text>\n",
       "    <path class=\"displacy-arrowhead\" d=\"M5125.0,879.0 L5133.0,867.0 5117.0,867.0\" fill=\"currentColor\"/>\n",
       "</g>\n",
       "\n",
       "<g class=\"displacy-arrow\">\n",
       "    <path class=\"displacy-arc\" id=\"arrow-e02d49651bb241faba356780a729fad2-0-29\" stroke-width=\"2px\" d=\"M5145,877.0 C5145,789.5 5255.0,789.5 5255.0,877.0\" fill=\"none\" stroke=\"currentColor\"/>\n",
       "    <text dy=\"1.25em\" style=\"font-size: 0.8em; letter-spacing: 1px\">\n",
       "        <textPath xlink:href=\"#arrow-e02d49651bb241faba356780a729fad2-0-29\" class=\"displacy-label\" startOffset=\"50%\" side=\"left\" fill=\"currentColor\" text-anchor=\"middle\">conj</textPath>\n",
       "    </text>\n",
       "    <path class=\"displacy-arrowhead\" d=\"M5255.0,879.0 L5263.0,867.0 5247.0,867.0\" fill=\"currentColor\"/>\n",
       "</g>\n",
       "\n",
       "<g class=\"displacy-arrow\">\n",
       "    <path class=\"displacy-arc\" id=\"arrow-e02d49651bb241faba356780a729fad2-0-30\" stroke-width=\"2px\" d=\"M5145,877.0 C5145,702.0 5435.0,702.0 5435.0,877.0\" fill=\"none\" stroke=\"currentColor\"/>\n",
       "    <text dy=\"1.25em\" style=\"font-size: 0.8em; letter-spacing: 1px\">\n",
       "        <textPath xlink:href=\"#arrow-e02d49651bb241faba356780a729fad2-0-30\" class=\"displacy-label\" startOffset=\"50%\" side=\"left\" fill=\"currentColor\" text-anchor=\"middle\">conj</textPath>\n",
       "    </text>\n",
       "    <path class=\"displacy-arrowhead\" d=\"M5435.0,879.0 L5443.0,867.0 5427.0,867.0\" fill=\"currentColor\"/>\n",
       "</g>\n",
       "\n",
       "<g class=\"displacy-arrow\">\n",
       "    <path class=\"displacy-arc\" id=\"arrow-e02d49651bb241faba356780a729fad2-0-31\" stroke-width=\"2px\" d=\"M5145,877.0 C5145,614.5 5615.0,614.5 5615.0,877.0\" fill=\"none\" stroke=\"currentColor\"/>\n",
       "    <text dy=\"1.25em\" style=\"font-size: 0.8em; letter-spacing: 1px\">\n",
       "        <textPath xlink:href=\"#arrow-e02d49651bb241faba356780a729fad2-0-31\" class=\"displacy-label\" startOffset=\"50%\" side=\"left\" fill=\"currentColor\" text-anchor=\"middle\">conj</textPath>\n",
       "    </text>\n",
       "    <path class=\"displacy-arrowhead\" d=\"M5615.0,879.0 L5623.0,867.0 5607.0,867.0\" fill=\"currentColor\"/>\n",
       "</g>\n",
       "\n",
       "<g class=\"displacy-arrow\">\n",
       "    <path class=\"displacy-arc\" id=\"arrow-e02d49651bb241faba356780a729fad2-0-32\" stroke-width=\"2px\" d=\"M5145,877.0 C5145,527.0 5795.0,527.0 5795.0,877.0\" fill=\"none\" stroke=\"currentColor\"/>\n",
       "    <text dy=\"1.25em\" style=\"font-size: 0.8em; letter-spacing: 1px\">\n",
       "        <textPath xlink:href=\"#arrow-e02d49651bb241faba356780a729fad2-0-32\" class=\"displacy-label\" startOffset=\"50%\" side=\"left\" fill=\"currentColor\" text-anchor=\"middle\">conj</textPath>\n",
       "    </text>\n",
       "    <path class=\"displacy-arrowhead\" d=\"M5795.0,879.0 L5803.0,867.0 5787.0,867.0\" fill=\"currentColor\"/>\n",
       "</g>\n",
       "\n",
       "<g class=\"displacy-arrow\">\n",
       "    <path class=\"displacy-arc\" id=\"arrow-e02d49651bb241faba356780a729fad2-0-33\" stroke-width=\"2px\" d=\"M5145,877.0 C5145,439.5 5975.0,439.5 5975.0,877.0\" fill=\"none\" stroke=\"currentColor\"/>\n",
       "    <text dy=\"1.25em\" style=\"font-size: 0.8em; letter-spacing: 1px\">\n",
       "        <textPath xlink:href=\"#arrow-e02d49651bb241faba356780a729fad2-0-33\" class=\"displacy-label\" startOffset=\"50%\" side=\"left\" fill=\"currentColor\" text-anchor=\"middle\">conj</textPath>\n",
       "    </text>\n",
       "    <path class=\"displacy-arrowhead\" d=\"M5975.0,879.0 L5983.0,867.0 5967.0,867.0\" fill=\"currentColor\"/>\n",
       "</g>\n",
       "\n",
       "<g class=\"displacy-arrow\">\n",
       "    <path class=\"displacy-arc\" id=\"arrow-e02d49651bb241faba356780a729fad2-0-34\" stroke-width=\"2px\" d=\"M5145,877.0 C5145,352.0 6155.0,352.0 6155.0,877.0\" fill=\"none\" stroke=\"currentColor\"/>\n",
       "    <text dy=\"1.25em\" style=\"font-size: 0.8em; letter-spacing: 1px\">\n",
       "        <textPath xlink:href=\"#arrow-e02d49651bb241faba356780a729fad2-0-34\" class=\"displacy-label\" startOffset=\"50%\" side=\"left\" fill=\"currentColor\" text-anchor=\"middle\">conj</textPath>\n",
       "    </text>\n",
       "    <path class=\"displacy-arrowhead\" d=\"M6155.0,879.0 L6163.0,867.0 6147.0,867.0\" fill=\"currentColor\"/>\n",
       "</g>\n",
       "\n",
       "<g class=\"displacy-arrow\">\n",
       "    <path class=\"displacy-arc\" id=\"arrow-e02d49651bb241faba356780a729fad2-0-35\" stroke-width=\"2px\" d=\"M6370,877.0 C6370,702.0 6660.0,702.0 6660.0,877.0\" fill=\"none\" stroke=\"currentColor\"/>\n",
       "    <text dy=\"1.25em\" style=\"font-size: 0.8em; letter-spacing: 1px\">\n",
       "        <textPath xlink:href=\"#arrow-e02d49651bb241faba356780a729fad2-0-35\" class=\"displacy-label\" startOffset=\"50%\" side=\"left\" fill=\"currentColor\" text-anchor=\"middle\">cc</textPath>\n",
       "    </text>\n",
       "    <path class=\"displacy-arrowhead\" d=\"M6370,879.0 L6362,867.0 6378,867.0\" fill=\"currentColor\"/>\n",
       "</g>\n",
       "\n",
       "<g class=\"displacy-arrow\">\n",
       "    <path class=\"displacy-arc\" id=\"arrow-e02d49651bb241faba356780a729fad2-0-36\" stroke-width=\"2px\" d=\"M6545,877.0 C6545,789.5 6655.0,789.5 6655.0,877.0\" fill=\"none\" stroke=\"currentColor\"/>\n",
       "    <text dy=\"1.25em\" style=\"font-size: 0.8em; letter-spacing: 1px\">\n",
       "        <textPath xlink:href=\"#arrow-e02d49651bb241faba356780a729fad2-0-36\" class=\"displacy-label\" startOffset=\"50%\" side=\"left\" fill=\"currentColor\" text-anchor=\"middle\">amod</textPath>\n",
       "    </text>\n",
       "    <path class=\"displacy-arrowhead\" d=\"M6545,879.0 L6537,867.0 6553,867.0\" fill=\"currentColor\"/>\n",
       "</g>\n",
       "\n",
       "<g class=\"displacy-arrow\">\n",
       "    <path class=\"displacy-arc\" id=\"arrow-e02d49651bb241faba356780a729fad2-0-37\" stroke-width=\"2px\" d=\"M5145,877.0 C5145,264.5 6685.0,264.5 6685.0,877.0\" fill=\"none\" stroke=\"currentColor\"/>\n",
       "    <text dy=\"1.25em\" style=\"font-size: 0.8em; letter-spacing: 1px\">\n",
       "        <textPath xlink:href=\"#arrow-e02d49651bb241faba356780a729fad2-0-37\" class=\"displacy-label\" startOffset=\"50%\" side=\"left\" fill=\"currentColor\" text-anchor=\"middle\">conj</textPath>\n",
       "    </text>\n",
       "    <path class=\"displacy-arrowhead\" d=\"M6685.0,879.0 L6693.0,867.0 6677.0,867.0\" fill=\"currentColor\"/>\n",
       "</g>\n",
       "\n",
       "<g class=\"displacy-arrow\">\n",
       "    <path class=\"displacy-arc\" id=\"arrow-e02d49651bb241faba356780a729fad2-0-38\" stroke-width=\"2px\" d=\"M6720,877.0 C6720,789.5 6830.0,789.5 6830.0,877.0\" fill=\"none\" stroke=\"currentColor\"/>\n",
       "    <text dy=\"1.25em\" style=\"font-size: 0.8em; letter-spacing: 1px\">\n",
       "        <textPath xlink:href=\"#arrow-e02d49651bb241faba356780a729fad2-0-38\" class=\"displacy-label\" startOffset=\"50%\" side=\"left\" fill=\"currentColor\" text-anchor=\"middle\">acl</textPath>\n",
       "    </text>\n",
       "    <path class=\"displacy-arrowhead\" d=\"M6830.0,879.0 L6838.0,867.0 6822.0,867.0\" fill=\"currentColor\"/>\n",
       "</g>\n",
       "\n",
       "<g class=\"displacy-arrow\">\n",
       "    <path class=\"displacy-arc\" id=\"arrow-e02d49651bb241faba356780a729fad2-0-39\" stroke-width=\"2px\" d=\"M7070,877.0 C7070,789.5 7180.0,789.5 7180.0,877.0\" fill=\"none\" stroke=\"currentColor\"/>\n",
       "    <text dy=\"1.25em\" style=\"font-size: 0.8em; letter-spacing: 1px\">\n",
       "        <textPath xlink:href=\"#arrow-e02d49651bb241faba356780a729fad2-0-39\" class=\"displacy-label\" startOffset=\"50%\" side=\"left\" fill=\"currentColor\" text-anchor=\"middle\">case</textPath>\n",
       "    </text>\n",
       "    <path class=\"displacy-arrowhead\" d=\"M7070,879.0 L7062,867.0 7078,867.0\" fill=\"currentColor\"/>\n",
       "</g>\n",
       "\n",
       "<g class=\"displacy-arrow\">\n",
       "    <path class=\"displacy-arc\" id=\"arrow-e02d49651bb241faba356780a729fad2-0-40\" stroke-width=\"2px\" d=\"M6895,877.0 C6895,702.0 7185.0,702.0 7185.0,877.0\" fill=\"none\" stroke=\"currentColor\"/>\n",
       "    <text dy=\"1.25em\" style=\"font-size: 0.8em; letter-spacing: 1px\">\n",
       "        <textPath xlink:href=\"#arrow-e02d49651bb241faba356780a729fad2-0-40\" class=\"displacy-label\" startOffset=\"50%\" side=\"left\" fill=\"currentColor\" text-anchor=\"middle\">obl</textPath>\n",
       "    </text>\n",
       "    <path class=\"displacy-arrowhead\" d=\"M7185.0,879.0 L7193.0,867.0 7177.0,867.0\" fill=\"currentColor\"/>\n",
       "</g>\n",
       "\n",
       "<g class=\"displacy-arrow\">\n",
       "    <path class=\"displacy-arc\" id=\"arrow-e02d49651bb241faba356780a729fad2-0-41\" stroke-width=\"2px\" d=\"M7420,877.0 C7420,702.0 7710.0,702.0 7710.0,877.0\" fill=\"none\" stroke=\"currentColor\"/>\n",
       "    <text dy=\"1.25em\" style=\"font-size: 0.8em; letter-spacing: 1px\">\n",
       "        <textPath xlink:href=\"#arrow-e02d49651bb241faba356780a729fad2-0-41\" class=\"displacy-label\" startOffset=\"50%\" side=\"left\" fill=\"currentColor\" text-anchor=\"middle\">amod</textPath>\n",
       "    </text>\n",
       "    <path class=\"displacy-arrowhead\" d=\"M7420,879.0 L7412,867.0 7428,867.0\" fill=\"currentColor\"/>\n",
       "</g>\n",
       "\n",
       "<g class=\"displacy-arrow\">\n",
       "    <path class=\"displacy-arc\" id=\"arrow-e02d49651bb241faba356780a729fad2-0-42\" stroke-width=\"2px\" d=\"M7595,877.0 C7595,789.5 7705.0,789.5 7705.0,877.0\" fill=\"none\" stroke=\"currentColor\"/>\n",
       "    <text dy=\"1.25em\" style=\"font-size: 0.8em; letter-spacing: 1px\">\n",
       "        <textPath xlink:href=\"#arrow-e02d49651bb241faba356780a729fad2-0-42\" class=\"displacy-label\" startOffset=\"50%\" side=\"left\" fill=\"currentColor\" text-anchor=\"middle\">amod</textPath>\n",
       "    </text>\n",
       "    <path class=\"displacy-arrowhead\" d=\"M7595,879.0 L7587,867.0 7603,867.0\" fill=\"currentColor\"/>\n",
       "</g>\n",
       "\n",
       "<g class=\"displacy-arrow\">\n",
       "    <path class=\"displacy-arc\" id=\"arrow-e02d49651bb241faba356780a729fad2-0-43\" stroke-width=\"2px\" d=\"M7245,877.0 C7245,614.5 7715.0,614.5 7715.0,877.0\" fill=\"none\" stroke=\"currentColor\"/>\n",
       "    <text dy=\"1.25em\" style=\"font-size: 0.8em; letter-spacing: 1px\">\n",
       "        <textPath xlink:href=\"#arrow-e02d49651bb241faba356780a729fad2-0-43\" class=\"displacy-label\" startOffset=\"50%\" side=\"left\" fill=\"currentColor\" text-anchor=\"middle\">nmod</textPath>\n",
       "    </text>\n",
       "    <path class=\"displacy-arrowhead\" d=\"M7715.0,879.0 L7723.0,867.0 7707.0,867.0\" fill=\"currentColor\"/>\n",
       "</g>\n",
       "\n",
       "<g class=\"displacy-arrow\">\n",
       "    <path class=\"displacy-arc\" id=\"arrow-e02d49651bb241faba356780a729fad2-0-44\" stroke-width=\"2px\" d=\"M7945,877.0 C7945,789.5 8055.0,789.5 8055.0,877.0\" fill=\"none\" stroke=\"currentColor\"/>\n",
       "    <text dy=\"1.25em\" style=\"font-size: 0.8em; letter-spacing: 1px\">\n",
       "        <textPath xlink:href=\"#arrow-e02d49651bb241faba356780a729fad2-0-44\" class=\"displacy-label\" startOffset=\"50%\" side=\"left\" fill=\"currentColor\" text-anchor=\"middle\">amod</textPath>\n",
       "    </text>\n",
       "    <path class=\"displacy-arrowhead\" d=\"M7945,879.0 L7937,867.0 7953,867.0\" fill=\"currentColor\"/>\n",
       "</g>\n",
       "\n",
       "<g class=\"displacy-arrow\">\n",
       "    <path class=\"displacy-arc\" id=\"arrow-e02d49651bb241faba356780a729fad2-0-45\" stroke-width=\"2px\" d=\"M7770,877.0 C7770,702.0 8060.0,702.0 8060.0,877.0\" fill=\"none\" stroke=\"currentColor\"/>\n",
       "    <text dy=\"1.25em\" style=\"font-size: 0.8em; letter-spacing: 1px\">\n",
       "        <textPath xlink:href=\"#arrow-e02d49651bb241faba356780a729fad2-0-45\" class=\"displacy-label\" startOffset=\"50%\" side=\"left\" fill=\"currentColor\" text-anchor=\"middle\">nmod</textPath>\n",
       "    </text>\n",
       "    <path class=\"displacy-arrowhead\" d=\"M8060.0,879.0 L8068.0,867.0 8052.0,867.0\" fill=\"currentColor\"/>\n",
       "</g>\n",
       "\n",
       "<g class=\"displacy-arrow\">\n",
       "    <path class=\"displacy-arc\" id=\"arrow-e02d49651bb241faba356780a729fad2-0-46\" stroke-width=\"2px\" d=\"M8295,877.0 C8295,527.0 8945.0,527.0 8945.0,877.0\" fill=\"none\" stroke=\"currentColor\"/>\n",
       "    <text dy=\"1.25em\" style=\"font-size: 0.8em; letter-spacing: 1px\">\n",
       "        <textPath xlink:href=\"#arrow-e02d49651bb241faba356780a729fad2-0-46\" class=\"displacy-label\" startOffset=\"50%\" side=\"left\" fill=\"currentColor\" text-anchor=\"middle\">amod</textPath>\n",
       "    </text>\n",
       "    <path class=\"displacy-arrowhead\" d=\"M8295,879.0 L8287,867.0 8303,867.0\" fill=\"currentColor\"/>\n",
       "</g>\n",
       "\n",
       "<g class=\"displacy-arrow\">\n",
       "    <path class=\"displacy-arc\" id=\"arrow-e02d49651bb241faba356780a729fad2-0-47\" stroke-width=\"2px\" d=\"M8470,877.0 C8470,789.5 8580.0,789.5 8580.0,877.0\" fill=\"none\" stroke=\"currentColor\"/>\n",
       "    <text dy=\"1.25em\" style=\"font-size: 0.8em; letter-spacing: 1px\">\n",
       "        <textPath xlink:href=\"#arrow-e02d49651bb241faba356780a729fad2-0-47\" class=\"displacy-label\" startOffset=\"50%\" side=\"left\" fill=\"currentColor\" text-anchor=\"middle\">cc</textPath>\n",
       "    </text>\n",
       "    <path class=\"displacy-arrowhead\" d=\"M8470,879.0 L8462,867.0 8478,867.0\" fill=\"currentColor\"/>\n",
       "</g>\n",
       "\n",
       "<g class=\"displacy-arrow\">\n",
       "    <path class=\"displacy-arc\" id=\"arrow-e02d49651bb241faba356780a729fad2-0-48\" stroke-width=\"2px\" d=\"M8295,877.0 C8295,702.0 8585.0,702.0 8585.0,877.0\" fill=\"none\" stroke=\"currentColor\"/>\n",
       "    <text dy=\"1.25em\" style=\"font-size: 0.8em; letter-spacing: 1px\">\n",
       "        <textPath xlink:href=\"#arrow-e02d49651bb241faba356780a729fad2-0-48\" class=\"displacy-label\" startOffset=\"50%\" side=\"left\" fill=\"currentColor\" text-anchor=\"middle\">conj</textPath>\n",
       "    </text>\n",
       "    <path class=\"displacy-arrowhead\" d=\"M8585.0,879.0 L8593.0,867.0 8577.0,867.0\" fill=\"currentColor\"/>\n",
       "</g>\n",
       "\n",
       "<g class=\"displacy-arrow\">\n",
       "    <path class=\"displacy-arc\" id=\"arrow-e02d49651bb241faba356780a729fad2-0-49\" stroke-width=\"2px\" d=\"M8820,877.0 C8820,789.5 8930.0,789.5 8930.0,877.0\" fill=\"none\" stroke=\"currentColor\"/>\n",
       "    <text dy=\"1.25em\" style=\"font-size: 0.8em; letter-spacing: 1px\">\n",
       "        <textPath xlink:href=\"#arrow-e02d49651bb241faba356780a729fad2-0-49\" class=\"displacy-label\" startOffset=\"50%\" side=\"left\" fill=\"currentColor\" text-anchor=\"middle\">amod</textPath>\n",
       "    </text>\n",
       "    <path class=\"displacy-arrowhead\" d=\"M8820,879.0 L8812,867.0 8828,867.0\" fill=\"currentColor\"/>\n",
       "</g>\n",
       "\n",
       "<g class=\"displacy-arrow\">\n",
       "    <path class=\"displacy-arc\" id=\"arrow-e02d49651bb241faba356780a729fad2-0-50\" stroke-width=\"2px\" d=\"M6895,877.0 C6895,177.0 8965.0,177.0 8965.0,877.0\" fill=\"none\" stroke=\"currentColor\"/>\n",
       "    <text dy=\"1.25em\" style=\"font-size: 0.8em; letter-spacing: 1px\">\n",
       "        <textPath xlink:href=\"#arrow-e02d49651bb241faba356780a729fad2-0-50\" class=\"displacy-label\" startOffset=\"50%\" side=\"left\" fill=\"currentColor\" text-anchor=\"middle\">obl:agent</textPath>\n",
       "    </text>\n",
       "    <path class=\"displacy-arrowhead\" d=\"M8965.0,879.0 L8973.0,867.0 8957.0,867.0\" fill=\"currentColor\"/>\n",
       "</g>\n",
       "\n",
       "<g class=\"displacy-arrow\">\n",
       "    <path class=\"displacy-arc\" id=\"arrow-e02d49651bb241faba356780a729fad2-0-51\" stroke-width=\"2px\" d=\"M8995,877.0 C8995,789.5 9105.0,789.5 9105.0,877.0\" fill=\"none\" stroke=\"currentColor\"/>\n",
       "    <text dy=\"1.25em\" style=\"font-size: 0.8em; letter-spacing: 1px\">\n",
       "        <textPath xlink:href=\"#arrow-e02d49651bb241faba356780a729fad2-0-51\" class=\"displacy-label\" startOffset=\"50%\" side=\"left\" fill=\"currentColor\" text-anchor=\"middle\">appos</textPath>\n",
       "    </text>\n",
       "    <path class=\"displacy-arrowhead\" d=\"M9105.0,879.0 L9113.0,867.0 9097.0,867.0\" fill=\"currentColor\"/>\n",
       "</g>\n",
       "\n",
       "<g class=\"displacy-arrow\">\n",
       "    <path class=\"displacy-arc\" id=\"arrow-e02d49651bb241faba356780a729fad2-0-52\" stroke-width=\"2px\" d=\"M9170,877.0 C9170,789.5 9280.0,789.5 9280.0,877.0\" fill=\"none\" stroke=\"currentColor\"/>\n",
       "    <text dy=\"1.25em\" style=\"font-size: 0.8em; letter-spacing: 1px\">\n",
       "        <textPath xlink:href=\"#arrow-e02d49651bb241faba356780a729fad2-0-52\" class=\"displacy-label\" startOffset=\"50%\" side=\"left\" fill=\"currentColor\" text-anchor=\"middle\">flat:name</textPath>\n",
       "    </text>\n",
       "    <path class=\"displacy-arrowhead\" d=\"M9280.0,879.0 L9288.0,867.0 9272.0,867.0\" fill=\"currentColor\"/>\n",
       "</g>\n",
       "\n",
       "<g class=\"displacy-arrow\">\n",
       "    <path class=\"displacy-arc\" id=\"arrow-e02d49651bb241faba356780a729fad2-0-53\" stroke-width=\"2px\" d=\"M9520,877.0 C9520,789.5 9630.0,789.5 9630.0,877.0\" fill=\"none\" stroke=\"currentColor\"/>\n",
       "    <text dy=\"1.25em\" style=\"font-size: 0.8em; letter-spacing: 1px\">\n",
       "        <textPath xlink:href=\"#arrow-e02d49651bb241faba356780a729fad2-0-53\" class=\"displacy-label\" startOffset=\"50%\" side=\"left\" fill=\"currentColor\" text-anchor=\"middle\">case</textPath>\n",
       "    </text>\n",
       "    <path class=\"displacy-arrowhead\" d=\"M9520,879.0 L9512,867.0 9528,867.0\" fill=\"currentColor\"/>\n",
       "</g>\n",
       "\n",
       "<g class=\"displacy-arrow\">\n",
       "    <path class=\"displacy-arc\" id=\"arrow-e02d49651bb241faba356780a729fad2-0-54\" stroke-width=\"2px\" d=\"M6895,877.0 C6895,89.5 9670.0,89.5 9670.0,877.0\" fill=\"none\" stroke=\"currentColor\"/>\n",
       "    <text dy=\"1.25em\" style=\"font-size: 0.8em; letter-spacing: 1px\">\n",
       "        <textPath xlink:href=\"#arrow-e02d49651bb241faba356780a729fad2-0-54\" class=\"displacy-label\" startOffset=\"50%\" side=\"left\" fill=\"currentColor\" text-anchor=\"middle\">obl</textPath>\n",
       "    </text>\n",
       "    <path class=\"displacy-arrowhead\" d=\"M9670.0,879.0 L9678.0,867.0 9662.0,867.0\" fill=\"currentColor\"/>\n",
       "</g>\n",
       "\n",
       "<g class=\"displacy-arrow\">\n",
       "    <path class=\"displacy-arc\" id=\"arrow-e02d49651bb241faba356780a729fad2-0-55\" stroke-width=\"2px\" d=\"M9870,877.0 C9870,789.5 9980.0,789.5 9980.0,877.0\" fill=\"none\" stroke=\"currentColor\"/>\n",
       "    <text dy=\"1.25em\" style=\"font-size: 0.8em; letter-spacing: 1px\">\n",
       "        <textPath xlink:href=\"#arrow-e02d49651bb241faba356780a729fad2-0-55\" class=\"displacy-label\" startOffset=\"50%\" side=\"left\" fill=\"currentColor\" text-anchor=\"middle\">amod</textPath>\n",
       "    </text>\n",
       "    <path class=\"displacy-arrowhead\" d=\"M9870,879.0 L9862,867.0 9878,867.0\" fill=\"currentColor\"/>\n",
       "</g>\n",
       "\n",
       "<g class=\"displacy-arrow\">\n",
       "    <path class=\"displacy-arc\" id=\"arrow-e02d49651bb241faba356780a729fad2-0-56\" stroke-width=\"2px\" d=\"M9695,877.0 C9695,702.0 9985.0,702.0 9985.0,877.0\" fill=\"none\" stroke=\"currentColor\"/>\n",
       "    <text dy=\"1.25em\" style=\"font-size: 0.8em; letter-spacing: 1px\">\n",
       "        <textPath xlink:href=\"#arrow-e02d49651bb241faba356780a729fad2-0-56\" class=\"displacy-label\" startOffset=\"50%\" side=\"left\" fill=\"currentColor\" text-anchor=\"middle\">nmod</textPath>\n",
       "    </text>\n",
       "    <path class=\"displacy-arrowhead\" d=\"M9985.0,879.0 L9993.0,867.0 9977.0,867.0\" fill=\"currentColor\"/>\n",
       "</g>\n",
       "\n",
       "<g class=\"displacy-arrow\">\n",
       "    <path class=\"displacy-arc\" id=\"arrow-e02d49651bb241faba356780a729fad2-0-57\" stroke-width=\"2px\" d=\"M10220,877.0 C10220,702.0 10510.0,702.0 10510.0,877.0\" fill=\"none\" stroke=\"currentColor\"/>\n",
       "    <text dy=\"1.25em\" style=\"font-size: 0.8em; letter-spacing: 1px\">\n",
       "        <textPath xlink:href=\"#arrow-e02d49651bb241faba356780a729fad2-0-57\" class=\"displacy-label\" startOffset=\"50%\" side=\"left\" fill=\"currentColor\" text-anchor=\"middle\">cc</textPath>\n",
       "    </text>\n",
       "    <path class=\"displacy-arrowhead\" d=\"M10220,879.0 L10212,867.0 10228,867.0\" fill=\"currentColor\"/>\n",
       "</g>\n",
       "\n",
       "<g class=\"displacy-arrow\">\n",
       "    <path class=\"displacy-arc\" id=\"arrow-e02d49651bb241faba356780a729fad2-0-58\" stroke-width=\"2px\" d=\"M10395,877.0 C10395,789.5 10505.0,789.5 10505.0,877.0\" fill=\"none\" stroke=\"currentColor\"/>\n",
       "    <text dy=\"1.25em\" style=\"font-size: 0.8em; letter-spacing: 1px\">\n",
       "        <textPath xlink:href=\"#arrow-e02d49651bb241faba356780a729fad2-0-58\" class=\"displacy-label\" startOffset=\"50%\" side=\"left\" fill=\"currentColor\" text-anchor=\"middle\">advmod</textPath>\n",
       "    </text>\n",
       "    <path class=\"displacy-arrowhead\" d=\"M10395,879.0 L10387,867.0 10403,867.0\" fill=\"currentColor\"/>\n",
       "</g>\n",
       "\n",
       "<g class=\"displacy-arrow\">\n",
       "    <path class=\"displacy-arc\" id=\"arrow-e02d49651bb241faba356780a729fad2-0-59\" stroke-width=\"2px\" d=\"M9695,877.0 C9695,439.5 10525.0,439.5 10525.0,877.0\" fill=\"none\" stroke=\"currentColor\"/>\n",
       "    <text dy=\"1.25em\" style=\"font-size: 0.8em; letter-spacing: 1px\">\n",
       "        <textPath xlink:href=\"#arrow-e02d49651bb241faba356780a729fad2-0-59\" class=\"displacy-label\" startOffset=\"50%\" side=\"left\" fill=\"currentColor\" text-anchor=\"middle\">conj</textPath>\n",
       "    </text>\n",
       "    <path class=\"displacy-arrowhead\" d=\"M10525.0,879.0 L10533.0,867.0 10517.0,867.0\" fill=\"currentColor\"/>\n",
       "</g>\n",
       "</svg></span>"
      ],
      "text/plain": [
       "<IPython.core.display.HTML object>"
      ]
     },
     "metadata": {},
     "output_type": "display_data"
    }
   ],
   "source": [
    "displacy.render(spacy_text1, style='dep', jupyter=True)"
   ]
  },
  {
   "cell_type": "code",
   "execution_count": 67,
   "metadata": {},
   "outputs": [
    {
     "data": {
      "text/html": [
       "<span class=\"tex2jax_ignore\"><svg xmlns=\"http://www.w3.org/2000/svg\" xmlns:xlink=\"http://www.w3.org/1999/xlink\" xml:lang=\"ru\" id=\"c067c57a950d49d697471aeb6636b4ef-0\" class=\"displacy\" width=\"1450\" height=\"312.0\" direction=\"ltr\" style=\"max-width: none; height: 312.0px; color: #000000; background: #ffffff; font-family: Arial; direction: ltr\">\n",
       "<text class=\"displacy-token\" fill=\"currentColor\" text-anchor=\"middle\" y=\"222.0\">\n",
       "    <tspan class=\"displacy-word\" fill=\"currentColor\" x=\"50\">Нельзя</tspan>\n",
       "    <tspan class=\"displacy-tag\" dy=\"2em\" fill=\"currentColor\" x=\"50\">ADV</tspan>\n",
       "</text>\n",
       "\n",
       "<text class=\"displacy-token\" fill=\"currentColor\" text-anchor=\"middle\" y=\"222.0\">\n",
       "    <tspan class=\"displacy-word\" fill=\"currentColor\" x=\"225\">остановить</tspan>\n",
       "    <tspan class=\"displacy-tag\" dy=\"2em\" fill=\"currentColor\" x=\"225\">VERB</tspan>\n",
       "</text>\n",
       "\n",
       "<text class=\"displacy-token\" fill=\"currentColor\" text-anchor=\"middle\" y=\"222.0\">\n",
       "    <tspan class=\"displacy-word\" fill=\"currentColor\" x=\"400\">перемены,</tspan>\n",
       "    <tspan class=\"displacy-tag\" dy=\"2em\" fill=\"currentColor\" x=\"400\">NOUN</tspan>\n",
       "</text>\n",
       "\n",
       "<text class=\"displacy-token\" fill=\"currentColor\" text-anchor=\"middle\" y=\"222.0\">\n",
       "    <tspan class=\"displacy-word\" fill=\"currentColor\" x=\"575\">как</tspan>\n",
       "    <tspan class=\"displacy-tag\" dy=\"2em\" fill=\"currentColor\" x=\"575\">ADV</tspan>\n",
       "</text>\n",
       "\n",
       "<text class=\"displacy-token\" fill=\"currentColor\" text-anchor=\"middle\" y=\"222.0\">\n",
       "    <tspan class=\"displacy-word\" fill=\"currentColor\" x=\"750\">нельзя</tspan>\n",
       "    <tspan class=\"displacy-tag\" dy=\"2em\" fill=\"currentColor\" x=\"750\">ADV</tspan>\n",
       "</text>\n",
       "\n",
       "<text class=\"displacy-token\" fill=\"currentColor\" text-anchor=\"middle\" y=\"222.0\">\n",
       "    <tspan class=\"displacy-word\" fill=\"currentColor\" x=\"925\">остановить</tspan>\n",
       "    <tspan class=\"displacy-tag\" dy=\"2em\" fill=\"currentColor\" x=\"925\">VERB</tspan>\n",
       "</text>\n",
       "\n",
       "<text class=\"displacy-token\" fill=\"currentColor\" text-anchor=\"middle\" y=\"222.0\">\n",
       "    <tspan class=\"displacy-word\" fill=\"currentColor\" x=\"1100\">восход</tspan>\n",
       "    <tspan class=\"displacy-tag\" dy=\"2em\" fill=\"currentColor\" x=\"1100\">NOUN</tspan>\n",
       "</text>\n",
       "\n",
       "<text class=\"displacy-token\" fill=\"currentColor\" text-anchor=\"middle\" y=\"222.0\">\n",
       "    <tspan class=\"displacy-word\" fill=\"currentColor\" x=\"1275\">солнца.</tspan>\n",
       "    <tspan class=\"displacy-tag\" dy=\"2em\" fill=\"currentColor\" x=\"1275\">NOUN</tspan>\n",
       "</text>\n",
       "\n",
       "<g class=\"displacy-arrow\">\n",
       "    <path class=\"displacy-arc\" id=\"arrow-c067c57a950d49d697471aeb6636b4ef-0-0\" stroke-width=\"2px\" d=\"M70,177.0 C70,89.5 220.0,89.5 220.0,177.0\" fill=\"none\" stroke=\"currentColor\"/>\n",
       "    <text dy=\"1.25em\" style=\"font-size: 0.8em; letter-spacing: 1px\">\n",
       "        <textPath xlink:href=\"#arrow-c067c57a950d49d697471aeb6636b4ef-0-0\" class=\"displacy-label\" startOffset=\"50%\" side=\"left\" fill=\"currentColor\" text-anchor=\"middle\">csubj</textPath>\n",
       "    </text>\n",
       "    <path class=\"displacy-arrowhead\" d=\"M220.0,179.0 L228.0,167.0 212.0,167.0\" fill=\"currentColor\"/>\n",
       "</g>\n",
       "\n",
       "<g class=\"displacy-arrow\">\n",
       "    <path class=\"displacy-arc\" id=\"arrow-c067c57a950d49d697471aeb6636b4ef-0-1\" stroke-width=\"2px\" d=\"M245,177.0 C245,89.5 395.0,89.5 395.0,177.0\" fill=\"none\" stroke=\"currentColor\"/>\n",
       "    <text dy=\"1.25em\" style=\"font-size: 0.8em; letter-spacing: 1px\">\n",
       "        <textPath xlink:href=\"#arrow-c067c57a950d49d697471aeb6636b4ef-0-1\" class=\"displacy-label\" startOffset=\"50%\" side=\"left\" fill=\"currentColor\" text-anchor=\"middle\">obj</textPath>\n",
       "    </text>\n",
       "    <path class=\"displacy-arrowhead\" d=\"M395.0,179.0 L403.0,167.0 387.0,167.0\" fill=\"currentColor\"/>\n",
       "</g>\n",
       "\n",
       "<g class=\"displacy-arrow\">\n",
       "    <path class=\"displacy-arc\" id=\"arrow-c067c57a950d49d697471aeb6636b4ef-0-2\" stroke-width=\"2px\" d=\"M595,177.0 C595,89.5 745.0,89.5 745.0,177.0\" fill=\"none\" stroke=\"currentColor\"/>\n",
       "    <text dy=\"1.25em\" style=\"font-size: 0.8em; letter-spacing: 1px\">\n",
       "        <textPath xlink:href=\"#arrow-c067c57a950d49d697471aeb6636b4ef-0-2\" class=\"displacy-label\" startOffset=\"50%\" side=\"left\" fill=\"currentColor\" text-anchor=\"middle\">advmod</textPath>\n",
       "    </text>\n",
       "    <path class=\"displacy-arrowhead\" d=\"M595,179.0 L587,167.0 603,167.0\" fill=\"currentColor\"/>\n",
       "</g>\n",
       "\n",
       "<g class=\"displacy-arrow\">\n",
       "    <path class=\"displacy-arc\" id=\"arrow-c067c57a950d49d697471aeb6636b4ef-0-3\" stroke-width=\"2px\" d=\"M245,177.0 C245,2.0 750.0,2.0 750.0,177.0\" fill=\"none\" stroke=\"currentColor\"/>\n",
       "    <text dy=\"1.25em\" style=\"font-size: 0.8em; letter-spacing: 1px\">\n",
       "        <textPath xlink:href=\"#arrow-c067c57a950d49d697471aeb6636b4ef-0-3\" class=\"displacy-label\" startOffset=\"50%\" side=\"left\" fill=\"currentColor\" text-anchor=\"middle\">advcl</textPath>\n",
       "    </text>\n",
       "    <path class=\"displacy-arrowhead\" d=\"M750.0,179.0 L758.0,167.0 742.0,167.0\" fill=\"currentColor\"/>\n",
       "</g>\n",
       "\n",
       "<g class=\"displacy-arrow\">\n",
       "    <path class=\"displacy-arc\" id=\"arrow-c067c57a950d49d697471aeb6636b4ef-0-4\" stroke-width=\"2px\" d=\"M770,177.0 C770,89.5 920.0,89.5 920.0,177.0\" fill=\"none\" stroke=\"currentColor\"/>\n",
       "    <text dy=\"1.25em\" style=\"font-size: 0.8em; letter-spacing: 1px\">\n",
       "        <textPath xlink:href=\"#arrow-c067c57a950d49d697471aeb6636b4ef-0-4\" class=\"displacy-label\" startOffset=\"50%\" side=\"left\" fill=\"currentColor\" text-anchor=\"middle\">csubj</textPath>\n",
       "    </text>\n",
       "    <path class=\"displacy-arrowhead\" d=\"M920.0,179.0 L928.0,167.0 912.0,167.0\" fill=\"currentColor\"/>\n",
       "</g>\n",
       "\n",
       "<g class=\"displacy-arrow\">\n",
       "    <path class=\"displacy-arc\" id=\"arrow-c067c57a950d49d697471aeb6636b4ef-0-5\" stroke-width=\"2px\" d=\"M945,177.0 C945,89.5 1095.0,89.5 1095.0,177.0\" fill=\"none\" stroke=\"currentColor\"/>\n",
       "    <text dy=\"1.25em\" style=\"font-size: 0.8em; letter-spacing: 1px\">\n",
       "        <textPath xlink:href=\"#arrow-c067c57a950d49d697471aeb6636b4ef-0-5\" class=\"displacy-label\" startOffset=\"50%\" side=\"left\" fill=\"currentColor\" text-anchor=\"middle\">obj</textPath>\n",
       "    </text>\n",
       "    <path class=\"displacy-arrowhead\" d=\"M1095.0,179.0 L1103.0,167.0 1087.0,167.0\" fill=\"currentColor\"/>\n",
       "</g>\n",
       "\n",
       "<g class=\"displacy-arrow\">\n",
       "    <path class=\"displacy-arc\" id=\"arrow-c067c57a950d49d697471aeb6636b4ef-0-6\" stroke-width=\"2px\" d=\"M1120,177.0 C1120,89.5 1270.0,89.5 1270.0,177.0\" fill=\"none\" stroke=\"currentColor\"/>\n",
       "    <text dy=\"1.25em\" style=\"font-size: 0.8em; letter-spacing: 1px\">\n",
       "        <textPath xlink:href=\"#arrow-c067c57a950d49d697471aeb6636b4ef-0-6\" class=\"displacy-label\" startOffset=\"50%\" side=\"left\" fill=\"currentColor\" text-anchor=\"middle\">nmod</textPath>\n",
       "    </text>\n",
       "    <path class=\"displacy-arrowhead\" d=\"M1270.0,179.0 L1278.0,167.0 1262.0,167.0\" fill=\"currentColor\"/>\n",
       "</g>\n",
       "</svg></span>"
      ],
      "text/plain": [
       "<IPython.core.display.HTML object>"
      ]
     },
     "metadata": {},
     "output_type": "display_data"
    }
   ],
   "source": [
    "displacy.render(spacy_text2, style='dep', jupyter=True)"
   ]
  },
  {
   "cell_type": "code",
   "execution_count": 68,
   "metadata": {},
   "outputs": [
    {
     "name": "stdout",
     "output_type": "stream",
     "text": [
      "noun\n"
     ]
    }
   ],
   "source": [
    "print(spacy.explain(\"NOUN\"))"
   ]
  },
  {
   "cell_type": "code",
   "execution_count": 69,
   "metadata": {},
   "outputs": [
    {
     "data": {
      "text/html": [
       "<span class=\"tex2jax_ignore\"><svg xmlns=\"http://www.w3.org/2000/svg\" xmlns:xlink=\"http://www.w3.org/1999/xlink\" xml:lang=\"ru\" id=\"d6d8c8acbae24c93b3f36aac75035d17-0\" class=\"displacy\" width=\"1625\" height=\"399.5\" direction=\"ltr\" style=\"max-width: none; height: 399.5px; color: #000000; background: #ffffff; font-family: Arial; direction: ltr\">\n",
       "<text class=\"displacy-token\" fill=\"currentColor\" text-anchor=\"middle\" y=\"309.5\">\n",
       "    <tspan class=\"displacy-word\" fill=\"currentColor\" x=\"50\">Теперь</tspan>\n",
       "    <tspan class=\"displacy-tag\" dy=\"2em\" fill=\"currentColor\" x=\"50\">ADV</tspan>\n",
       "</text>\n",
       "\n",
       "<text class=\"displacy-token\" fill=\"currentColor\" text-anchor=\"middle\" y=\"309.5\">\n",
       "    <tspan class=\"displacy-word\" fill=\"currentColor\" x=\"225\">будь</tspan>\n",
       "    <tspan class=\"displacy-tag\" dy=\"2em\" fill=\"currentColor\" x=\"225\">AUX</tspan>\n",
       "</text>\n",
       "\n",
       "<text class=\"displacy-token\" fill=\"currentColor\" text-anchor=\"middle\" y=\"309.5\">\n",
       "    <tspan class=\"displacy-word\" fill=\"currentColor\" x=\"400\">храбр</tspan>\n",
       "    <tspan class=\"displacy-tag\" dy=\"2em\" fill=\"currentColor\" x=\"400\">ADJ</tspan>\n",
       "</text>\n",
       "\n",
       "<text class=\"displacy-token\" fill=\"currentColor\" text-anchor=\"middle\" y=\"309.5\">\n",
       "    <tspan class=\"displacy-word\" fill=\"currentColor\" x=\"575\">и</tspan>\n",
       "    <tspan class=\"displacy-tag\" dy=\"2em\" fill=\"currentColor\" x=\"575\">CCONJ</tspan>\n",
       "</text>\n",
       "\n",
       "<text class=\"displacy-token\" fill=\"currentColor\" text-anchor=\"middle\" y=\"309.5\">\n",
       "    <tspan class=\"displacy-word\" fill=\"currentColor\" x=\"750\">не</tspan>\n",
       "    <tspan class=\"displacy-tag\" dy=\"2em\" fill=\"currentColor\" x=\"750\">PART</tspan>\n",
       "</text>\n",
       "\n",
       "<text class=\"displacy-token\" fill=\"currentColor\" text-anchor=\"middle\" y=\"309.5\">\n",
       "    <tspan class=\"displacy-word\" fill=\"currentColor\" x=\"925\">оглядывайся</tspan>\n",
       "    <tspan class=\"displacy-tag\" dy=\"2em\" fill=\"currentColor\" x=\"925\">VERB</tspan>\n",
       "</text>\n",
       "\n",
       "<text class=\"displacy-token\" fill=\"currentColor\" text-anchor=\"middle\" y=\"309.5\">\n",
       "    <tspan class=\"displacy-word\" fill=\"currentColor\" x=\"1100\">назад.</tspan>\n",
       "    <tspan class=\"displacy-tag\" dy=\"2em\" fill=\"currentColor\" x=\"1100\">ADV</tspan>\n",
       "</text>\n",
       "\n",
       "<text class=\"displacy-token\" fill=\"currentColor\" text-anchor=\"middle\" y=\"309.5\">\n",
       "    <tspan class=\"displacy-word\" fill=\"currentColor\" x=\"1275\">Не</tspan>\n",
       "    <tspan class=\"displacy-tag\" dy=\"2em\" fill=\"currentColor\" x=\"1275\">PART</tspan>\n",
       "</text>\n",
       "\n",
       "<text class=\"displacy-token\" fill=\"currentColor\" text-anchor=\"middle\" y=\"309.5\">\n",
       "    <tspan class=\"displacy-word\" fill=\"currentColor\" x=\"1450\">оглядывайся.</tspan>\n",
       "    <tspan class=\"displacy-tag\" dy=\"2em\" fill=\"currentColor\" x=\"1450\">VERB</tspan>\n",
       "</text>\n",
       "\n",
       "<g class=\"displacy-arrow\">\n",
       "    <path class=\"displacy-arc\" id=\"arrow-d6d8c8acbae24c93b3f36aac75035d17-0-0\" stroke-width=\"2px\" d=\"M70,264.5 C70,89.5 395.0,89.5 395.0,264.5\" fill=\"none\" stroke=\"currentColor\"/>\n",
       "    <text dy=\"1.25em\" style=\"font-size: 0.8em; letter-spacing: 1px\">\n",
       "        <textPath xlink:href=\"#arrow-d6d8c8acbae24c93b3f36aac75035d17-0-0\" class=\"displacy-label\" startOffset=\"50%\" side=\"left\" fill=\"currentColor\" text-anchor=\"middle\">advmod</textPath>\n",
       "    </text>\n",
       "    <path class=\"displacy-arrowhead\" d=\"M70,266.5 L62,254.5 78,254.5\" fill=\"currentColor\"/>\n",
       "</g>\n",
       "\n",
       "<g class=\"displacy-arrow\">\n",
       "    <path class=\"displacy-arc\" id=\"arrow-d6d8c8acbae24c93b3f36aac75035d17-0-1\" stroke-width=\"2px\" d=\"M245,264.5 C245,177.0 390.0,177.0 390.0,264.5\" fill=\"none\" stroke=\"currentColor\"/>\n",
       "    <text dy=\"1.25em\" style=\"font-size: 0.8em; letter-spacing: 1px\">\n",
       "        <textPath xlink:href=\"#arrow-d6d8c8acbae24c93b3f36aac75035d17-0-1\" class=\"displacy-label\" startOffset=\"50%\" side=\"left\" fill=\"currentColor\" text-anchor=\"middle\">cop</textPath>\n",
       "    </text>\n",
       "    <path class=\"displacy-arrowhead\" d=\"M245,266.5 L237,254.5 253,254.5\" fill=\"currentColor\"/>\n",
       "</g>\n",
       "\n",
       "<g class=\"displacy-arrow\">\n",
       "    <path class=\"displacy-arc\" id=\"arrow-d6d8c8acbae24c93b3f36aac75035d17-0-2\" stroke-width=\"2px\" d=\"M595,264.5 C595,89.5 920.0,89.5 920.0,264.5\" fill=\"none\" stroke=\"currentColor\"/>\n",
       "    <text dy=\"1.25em\" style=\"font-size: 0.8em; letter-spacing: 1px\">\n",
       "        <textPath xlink:href=\"#arrow-d6d8c8acbae24c93b3f36aac75035d17-0-2\" class=\"displacy-label\" startOffset=\"50%\" side=\"left\" fill=\"currentColor\" text-anchor=\"middle\">cc</textPath>\n",
       "    </text>\n",
       "    <path class=\"displacy-arrowhead\" d=\"M595,266.5 L587,254.5 603,254.5\" fill=\"currentColor\"/>\n",
       "</g>\n",
       "\n",
       "<g class=\"displacy-arrow\">\n",
       "    <path class=\"displacy-arc\" id=\"arrow-d6d8c8acbae24c93b3f36aac75035d17-0-3\" stroke-width=\"2px\" d=\"M770,264.5 C770,177.0 915.0,177.0 915.0,264.5\" fill=\"none\" stroke=\"currentColor\"/>\n",
       "    <text dy=\"1.25em\" style=\"font-size: 0.8em; letter-spacing: 1px\">\n",
       "        <textPath xlink:href=\"#arrow-d6d8c8acbae24c93b3f36aac75035d17-0-3\" class=\"displacy-label\" startOffset=\"50%\" side=\"left\" fill=\"currentColor\" text-anchor=\"middle\">advmod</textPath>\n",
       "    </text>\n",
       "    <path class=\"displacy-arrowhead\" d=\"M770,266.5 L762,254.5 778,254.5\" fill=\"currentColor\"/>\n",
       "</g>\n",
       "\n",
       "<g class=\"displacy-arrow\">\n",
       "    <path class=\"displacy-arc\" id=\"arrow-d6d8c8acbae24c93b3f36aac75035d17-0-4\" stroke-width=\"2px\" d=\"M420,264.5 C420,2.0 925.0,2.0 925.0,264.5\" fill=\"none\" stroke=\"currentColor\"/>\n",
       "    <text dy=\"1.25em\" style=\"font-size: 0.8em; letter-spacing: 1px\">\n",
       "        <textPath xlink:href=\"#arrow-d6d8c8acbae24c93b3f36aac75035d17-0-4\" class=\"displacy-label\" startOffset=\"50%\" side=\"left\" fill=\"currentColor\" text-anchor=\"middle\">conj</textPath>\n",
       "    </text>\n",
       "    <path class=\"displacy-arrowhead\" d=\"M925.0,266.5 L933.0,254.5 917.0,254.5\" fill=\"currentColor\"/>\n",
       "</g>\n",
       "\n",
       "<g class=\"displacy-arrow\">\n",
       "    <path class=\"displacy-arc\" id=\"arrow-d6d8c8acbae24c93b3f36aac75035d17-0-5\" stroke-width=\"2px\" d=\"M945,264.5 C945,177.0 1090.0,177.0 1090.0,264.5\" fill=\"none\" stroke=\"currentColor\"/>\n",
       "    <text dy=\"1.25em\" style=\"font-size: 0.8em; letter-spacing: 1px\">\n",
       "        <textPath xlink:href=\"#arrow-d6d8c8acbae24c93b3f36aac75035d17-0-5\" class=\"displacy-label\" startOffset=\"50%\" side=\"left\" fill=\"currentColor\" text-anchor=\"middle\">advmod</textPath>\n",
       "    </text>\n",
       "    <path class=\"displacy-arrowhead\" d=\"M1090.0,266.5 L1098.0,254.5 1082.0,254.5\" fill=\"currentColor\"/>\n",
       "</g>\n",
       "\n",
       "<g class=\"displacy-arrow\">\n",
       "    <path class=\"displacy-arc\" id=\"arrow-d6d8c8acbae24c93b3f36aac75035d17-0-6\" stroke-width=\"2px\" d=\"M1295,264.5 C1295,177.0 1440.0,177.0 1440.0,264.5\" fill=\"none\" stroke=\"currentColor\"/>\n",
       "    <text dy=\"1.25em\" style=\"font-size: 0.8em; letter-spacing: 1px\">\n",
       "        <textPath xlink:href=\"#arrow-d6d8c8acbae24c93b3f36aac75035d17-0-6\" class=\"displacy-label\" startOffset=\"50%\" side=\"left\" fill=\"currentColor\" text-anchor=\"middle\">advmod</textPath>\n",
       "    </text>\n",
       "    <path class=\"displacy-arrowhead\" d=\"M1295,266.5 L1287,254.5 1303,254.5\" fill=\"currentColor\"/>\n",
       "</g>\n",
       "</svg></span>"
      ],
      "text/plain": [
       "<IPython.core.display.HTML object>"
      ]
     },
     "metadata": {},
     "output_type": "display_data"
    }
   ],
   "source": [
    "displacy.render(spacy_text3, style='dep', jupyter=True)"
   ]
  },
  {
   "cell_type": "markdown",
   "metadata": {},
   "source": [
    "### Natasha"
   ]
  },
  {
   "cell_type": "code",
   "execution_count": 70,
   "metadata": {},
   "outputs": [],
   "source": [
    "from natasha import NewsSyntaxParser"
   ]
  },
  {
   "cell_type": "code",
   "execution_count": 71,
   "metadata": {},
   "outputs": [],
   "source": [
    "emb = NewsEmbedding()\n",
    "syntax_parser = NewsSyntaxParser(emb)"
   ]
  },
  {
   "cell_type": "code",
   "execution_count": 72,
   "metadata": {},
   "outputs": [
    {
     "name": "stdout",
     "output_type": "stream",
     "text": [
      "                                  ┌► Звездные       amod\n",
      "                      ┌──────────►└─ войны          nsubj\n",
      "                      │           ┌► -              punct\n",
      "                      │     ┌──►┌─└─ медиафраншиза  parataxis\n",
      "                      │     │   │ ┌► в              case\n",
      "                      │     │   └►└─ жанре          nmod\n",
      "                      │     │     ┌► космическая    amod\n",
      "    ┌───┌───┌─┌───────│   ┌►│     └─ опера          nsubj\n",
      "    │   │   │ │       │   │ │     ┌► ,              punct\n",
      "    │ ┌►│   │ │       │   │ │ ┌─┌─└─ включающая     acl\n",
      "    │ │ │   │ │       │   │ │ │ │ ┌► в              case\n",
      "    │ │ │   │ │       │   │ │ │ └►└─ себя           obl\n",
      "    │ │ │   │ │       │   │ │ │ ┌──► одиннадцать    nummod:gov\n",
      "    │ │ │   │ │       │   │ │ │ │ ┌► художественных amod\n",
      "    │ │ │   │ │       │   │ └─└►└─└─ фильмов        obj\n",
      "    │ │ │   │ │       │   │   │ ┌──► (              punct\n",
      "    │ │ │   │ │       │   │   │ │ ┌► 9              nummod\n",
      "    │ │ │   │ │       │ ┌─│   └►└─└─ эпизодов       parataxis\n",
      "    │ │ │   │ │       │ │ │   │   ┌► основной       amod\n",
      "    │ │ │   │ │       │ │ │   └──►└─ саги           nmod\n",
      "    │ │ │ ┌►│ │       │ │ │          ,              punct\n",
      "    │ │ │ │ │ │       │ │ │       ┌► также          advmod\n",
      "┌───│ │ │ │ │ │       └─│ └───┌───└─ известна       \n",
      "│   │ │ │ │ │ │         │     │ ┌──► как            case\n",
      "│   │ │ │ │ │ │         │     │ │ ┌► «              punct\n",
      "│ ┌─│ │ │ │ │ │ ┌─┌─┌─┌─│   ┌─└►└─└─ Сага           obl\n",
      "│ │ │ │ │ │ │ │ │ │ │ │ │   │ │ └──► Скайуокеров    appos\n",
      "│ │ │ │ │ │ │ │ │ │ │ │ │   │ └────► »              punct\n",
      "│ │ │ │ │ │ │ │ │ │ │ │ │   │   ┌──► и              cc\n",
      "│ │ │ │ │ │ │ │ │ │ │ │ │   │   │ ┌► 2              nummod\n",
      "│ │ │ │ │ │ │ │ │ │ │ │ │   └──►└─└─ фильма         conj\n",
      "│ │ │ │ │ │ │ │ │ │ │ │ │       └──► историй        nmod\n",
      "│ │ │ │ │ │ │ │ │ │ │ │ └──────────► )              punct\n",
      "│ │ │ │ │ │ │ │ │ │ │ │       ┌────► ,              punct\n",
      "│ │ │ │ │ │ │ │ │ │ │ │       │ ┌►┌─ а              cc\n",
      "│ │ │ │ │ │ │ │ │ │ │ │       │ │ └► также          fixed\n",
      "│ │ │ │ │ │ │ │ │ │ │ │       │ │ ┌► анимационные   amod\n",
      "│ │ │ │ │ │ │ └►│ │ │ │       └─└─└─ сериалы        conj\n",
      "│ │ │ │ │ │ │   │ │ │ │           ┌► ,              punct\n",
      "│ │ │ │ │ │ └──►│ │ │ │           └─ мультфильмы    conj\n",
      "│ │ │ │ │ │     │ │ │ │           ┌► ,              punct\n",
      "│ │ │ │ │ │     │ │ │ └──────────►└─ телефильмы     conj\n",
      "│ │ │ │ │ │     │ │ │             ┌► ,              punct\n",
      "│ │ │ │ │ │     │ │ └──────────►┌─└─ книги          conj\n",
      "│ │ │ │ │ │     │ │             │ ┌► ,              punct\n",
      "│ │ │ │ │ │     │ └────────────►│ └─ комиксы        conj\n",
      "│ │ │ │ │ │     │               └──► ,              punct\n",
      "│ │ │ │ │ │     └──────────────────► видеоигры      conj\n",
      "│ │ │ │ │ │                       ┌► ,              punct\n",
      "│ │ │ │ └►│                       └─ игрушки        conj\n",
      "│ │ │ │   │                     ┌──► и              cc\n",
      "│ │ │ │   │                     │ ┌► прочие         amod\n",
      "│ │ └►└───│                   ┌─└─└─ произведения   conj\n",
      "│ │       │                   │   ┌► ,              punct\n",
      "│ │       └─────────┌───────┌─└──►└─ созданные      acl\n",
      "│ │                 │       │     ┌► в              case\n",
      "│ │                 │     ┌─└────►└─ рамках         obl\n",
      "│ │                 │     │     ┌──► единой         amod\n",
      "│ │                 │     │     │ ┌► фантастической amod\n",
      "│ │                 │ ┌─┌─└────►└─└─ вселенной      nmod\n",
      "│ │                 │ │ │       ┌──► «              punct\n",
      "│ │                 │ │ │       │ ┌► Звёздных       amod\n",
      "│ │                 │ │ └──────►└─└─ войн           nmod\n",
      "│ │                 │ │         └──► »              punct\n",
      "│ │                 │ │           ┌► ,              punct\n",
      "│ │                 │ └────────►┌─└─ задуманной     acl\n",
      "│ │                 │           │ ┌► и              cc\n",
      "│ │                 │       ┌─┌─└►└─ реализованной  conj\n",
      "│ │                 │       │ │   ┌► американским   amod\n",
      "│ │                 │       │ └►┌─└─ режиссёром     xcomp\n",
      "│ │                 │       │   └►┌─ Джорджем       appos\n",
      "│ │                 │       │     └► Лукасом        flat:name\n",
      "│ │                 │       │     ┌► в              case\n",
      "│ │                 └──────►│   ┌─└─ конце          obl\n",
      "│ │                         │   │ ┌► 1970-х         amod\n",
      "│ │                         │   └►└─ годов          nmod\n",
      "│ │                         │     ┌► и              cc\n",
      "│ │                         └────►│  позднее        advmod\n",
      "│ └──────────────────────────────►└─ расширенной    conj\n",
      "└──────────────────────────────────► .              punct\n"
     ]
    }
   ],
   "source": [
    "n_doc1.parse_syntax(syntax_parser)\n",
    "n_doc1.sents[0].syntax.print()"
   ]
  },
  {
   "cell_type": "code",
   "execution_count": 74,
   "metadata": {},
   "outputs": [
    {
     "name": "stdout",
     "output_type": "stream",
     "text": [
      "                                  ┌► Звездные       amod\n",
      "                      ┌──────────►└─ войны          nsubj\n",
      "                      │           ┌► -              punct\n",
      "                      │     ┌──►┌─└─ медиафраншиза  parataxis\n",
      "                      │     │   │ ┌► в              case\n",
      "                      │     │   └►└─ жанре          nmod\n",
      "                      │     │     ┌► космическая    amod\n",
      "    ┌───┌───┌─┌───────│   ┌►│     └─ опера          nsubj\n",
      "    │   │   │ │       │   │ │     ┌► ,              punct\n",
      "    │ ┌►│   │ │       │   │ │ ┌─┌─└─ включающая     acl\n",
      "    │ │ │   │ │       │   │ │ │ │ ┌► в              case\n",
      "    │ │ │   │ │       │   │ │ │ └►└─ себя           obl\n",
      "    │ │ │   │ │       │   │ │ │ ┌──► одиннадцать    nummod:gov\n",
      "    │ │ │   │ │       │   │ │ │ │ ┌► художественных amod\n",
      "    │ │ │   │ │       │   │ └─└►└─└─ фильмов        obj\n",
      "    │ │ │   │ │       │   │   │ ┌──► (              punct\n",
      "    │ │ │   │ │       │   │   │ │ ┌► 9              nummod\n",
      "    │ │ │   │ │       │ ┌─│   └►└─└─ эпизодов       parataxis\n",
      "    │ │ │   │ │       │ │ │   │   ┌► основной       amod\n",
      "    │ │ │   │ │       │ │ │   └──►└─ саги           nmod\n",
      "    │ │ │ ┌►│ │       │ │ │          ,              punct\n",
      "    │ │ │ │ │ │       │ │ │       ┌► также          advmod\n",
      "┌───│ │ │ │ │ │       └─│ └───┌───└─ известна       \n",
      "│   │ │ │ │ │ │         │     │ ┌──► как            case\n",
      "│   │ │ │ │ │ │         │     │ │ ┌► «              punct\n",
      "│ ┌─│ │ │ │ │ │ ┌─┌─┌─┌─│   ┌─└►└─└─ Сага           obl\n",
      "│ │ │ │ │ │ │ │ │ │ │ │ │   │ │ └──► Скайуокеров    appos\n",
      "│ │ │ │ │ │ │ │ │ │ │ │ │   │ └────► »              punct\n",
      "│ │ │ │ │ │ │ │ │ │ │ │ │   │   ┌──► и              cc\n",
      "│ │ │ │ │ │ │ │ │ │ │ │ │   │   │ ┌► 2              nummod\n",
      "│ │ │ │ │ │ │ │ │ │ │ │ │   └──►└─└─ фильма         conj\n",
      "│ │ │ │ │ │ │ │ │ │ │ │ │       └──► историй        nmod\n",
      "│ │ │ │ │ │ │ │ │ │ │ │ └──────────► )              punct\n",
      "│ │ │ │ │ │ │ │ │ │ │ │       ┌────► ,              punct\n",
      "│ │ │ │ │ │ │ │ │ │ │ │       │ ┌►┌─ а              cc\n",
      "│ │ │ │ │ │ │ │ │ │ │ │       │ │ └► также          fixed\n",
      "│ │ │ │ │ │ │ │ │ │ │ │       │ │ ┌► анимационные   amod\n",
      "│ │ │ │ │ │ │ └►│ │ │ │       └─└─└─ сериалы        conj\n",
      "│ │ │ │ │ │ │   │ │ │ │           ┌► ,              punct\n",
      "│ │ │ │ │ │ └──►│ │ │ │           └─ мультфильмы    conj\n",
      "│ │ │ │ │ │     │ │ │ │           ┌► ,              punct\n",
      "│ │ │ │ │ │     │ │ │ └──────────►└─ телефильмы     conj\n",
      "│ │ │ │ │ │     │ │ │             ┌► ,              punct\n",
      "│ │ │ │ │ │     │ │ └──────────►┌─└─ книги          conj\n",
      "│ │ │ │ │ │     │ │             │ ┌► ,              punct\n",
      "│ │ │ │ │ │     │ └────────────►│ └─ комиксы        conj\n",
      "│ │ │ │ │ │     │               └──► ,              punct\n",
      "│ │ │ │ │ │     └──────────────────► видеоигры      conj\n",
      "│ │ │ │ │ │                       ┌► ,              punct\n",
      "│ │ │ │ └►│                       └─ игрушки        conj\n",
      "│ │ │ │   │                     ┌──► и              cc\n",
      "│ │ │ │   │                     │ ┌► прочие         amod\n",
      "│ │ └►└───│                   ┌─└─└─ произведения   conj\n",
      "│ │       │                   │   ┌► ,              punct\n",
      "│ │       └─────────┌───────┌─└──►└─ созданные      acl\n",
      "│ │                 │       │     ┌► в              case\n",
      "│ │                 │     ┌─└────►└─ рамках         obl\n",
      "│ │                 │     │     ┌──► единой         amod\n",
      "│ │                 │     │     │ ┌► фантастической amod\n",
      "│ │                 │ ┌─┌─└────►└─└─ вселенной      nmod\n",
      "│ │                 │ │ │       ┌──► «              punct\n",
      "│ │                 │ │ │       │ ┌► Звёздных       amod\n",
      "│ │                 │ │ └──────►└─└─ войн           nmod\n",
      "│ │                 │ │         └──► »              punct\n",
      "│ │                 │ │           ┌► ,              punct\n",
      "│ │                 │ └────────►┌─└─ задуманной     acl\n",
      "│ │                 │           │ ┌► и              cc\n",
      "│ │                 │       ┌─┌─└►└─ реализованной  conj\n",
      "│ │                 │       │ │   ┌► американским   amod\n",
      "│ │                 │       │ └►┌─└─ режиссёром     xcomp\n",
      "│ │                 │       │   └►┌─ Джорджем       appos\n",
      "│ │                 │       │     └► Лукасом        flat:name\n",
      "│ │                 │       │     ┌► в              case\n",
      "│ │                 └──────►│   ┌─└─ конце          obl\n",
      "│ │                         │   │ ┌► 1970-х         amod\n",
      "│ │                         │   └►└─ годов          nmod\n",
      "│ │                         │     ┌► и              cc\n",
      "│ │                         └────►│  позднее        advmod\n",
      "│ └──────────────────────────────►└─ расширенной    conj\n",
      "└──────────────────────────────────► .              punct\n"
     ]
    }
   ],
   "source": [
    "n_doc1.parse_syntax(syntax_parser)\n",
    "n_doc1.sents[0].syntax.print()"
   ]
  },
  {
   "cell_type": "code",
   "execution_count": 75,
   "metadata": {},
   "outputs": [
    {
     "name": "stdout",
     "output_type": "stream",
     "text": [
      "       Нельзя     \n",
      "    ┌─ остановить \n",
      "    └► перемены   obj\n",
      "  ┌──► ,          punct\n",
      "  │ ┌► как        advmod\n",
      "┌─└─└─ нельзя     advmod\n",
      "└►└─┌─ остановить csubj\n",
      "  ┌─└► восход     obj\n",
      "  └──► солнца     nmod\n",
      "       .          \n"
     ]
    }
   ],
   "source": [
    "n_doc2.parse_syntax(syntax_parser)\n",
    "n_doc2.sents[0].syntax.print()"
   ]
  },
  {
   "cell_type": "code",
   "execution_count": 76,
   "metadata": {},
   "outputs": [
    {
     "name": "stdout",
     "output_type": "stream",
     "text": [
      "    ┌──► Теперь      advmod\n",
      "    │ ┌► будь        cop\n",
      "┌─┌─└─└─ храбр       \n",
      "│ │ ┌──► и           cc\n",
      "│ │ │ ┌► не          advmod\n",
      "│ └►└─└─ оглядывайся conj\n",
      "│   └──► назад       advmod\n",
      "└──────► .           punct\n"
     ]
    }
   ],
   "source": [
    "n_doc3.parse_syntax(syntax_parser)\n",
    "n_doc3.sents[0].syntax.print()"
   ]
  },
  {
   "cell_type": "code",
   "execution_count": null,
   "metadata": {},
   "outputs": [],
   "source": []
  }
 ],
 "metadata": {
  "kernelspec": {
   "display_name": "Python 3",
   "language": "python",
   "name": "python3"
  },
  "language_info": {
   "codemirror_mode": {
    "name": "ipython",
    "version": 3
   },
   "file_extension": ".py",
   "mimetype": "text/x-python",
   "name": "python",
   "nbconvert_exporter": "python",
   "pygments_lexer": "ipython3",
   "version": "3.8.5"
  }
 },
 "nbformat": 4,
 "nbformat_minor": 4
}
